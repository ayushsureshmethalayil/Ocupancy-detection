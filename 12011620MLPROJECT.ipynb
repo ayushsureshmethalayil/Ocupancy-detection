{
 "cells": [
  {
   "cell_type": "markdown",
   "metadata": {},
   "source": [
    "# 1. Import Libraries"
   ]
  },
  {
   "cell_type": "code",
   "execution_count": 30,
   "metadata": {},
   "outputs": [],
   "source": [
    "import numpy as np  # for matrices, vector operations\n",
    "import pandas as pd  # for data frame operations\n",
    "from sklearn.preprocessing import StandardScaler # for preprocessing, just scale data\n",
    "import os # for file operations\n",
    "\n",
    "# Data visualization\n",
    "import seaborn as sns\n",
    "import matplotlib.pyplot as plt\n",
    "\n",
    "# For training, NN.\n",
    "from keras.models import Sequential\n",
    "from keras.layers.core import Dense\n",
    "from keras.optimizers import Adam\n",
    "\n"
   ]
  },
  {
   "cell_type": "markdown",
   "metadata": {},
   "source": [
    "## 2. Load Datasets"
   ]
  },
  {
   "cell_type": "code",
   "execution_count": 31,
   "metadata": {},
   "outputs": [],
   "source": [
    "current_dir = os.getcwd()\n",
    "datasets_dir = current_dir + '/dataset'\n",
    "\n",
    "ds_train = datasets_dir +'/train.csv'\n",
    "ds_dev = datasets_dir + '/dev.csv'\n",
    "ds_test = datasets_dir + '/test.csv'"
   ]
  },
  {
   "cell_type": "code",
   "execution_count": 32,
   "metadata": {},
   "outputs": [],
   "source": [
    "def load_dataset(dataset):\n",
    "    '''\n",
    "    Load dataset as pandas dataframe.\n",
    "    '''\n",
    "    dataset_frame = pd.read_csv(dataset)\n",
    "    print(f\"{dataset.split(sep='/')[-1]} is loaded\")\n",
    "    return dataset_frame"
   ]
  },
  {
   "cell_type": "code",
   "execution_count": 33,
   "metadata": {},
   "outputs": [
    {
     "name": "stdout",
     "output_type": "stream",
     "text": [
      "train.csv is loaded\n",
      "dev.csv is loaded\n",
      "test.csv is loaded\n"
     ]
    }
   ],
   "source": [
    "# Load datasets as dataframe\n",
    "df_train = load_dataset(ds_train)\n",
    "df_dev = load_dataset(ds_dev)\n",
    "df_test = load_dataset(ds_test)"
   ]
  },
  {
   "cell_type": "markdown",
   "metadata": {},
   "source": [
    "## 3. Data Analysis"
   ]
  },
  {
   "cell_type": "code",
   "execution_count": 34,
   "metadata": {},
   "outputs": [
    {
     "data": {
      "text/html": [
       "<div>\n",
       "<style scoped>\n",
       "    .dataframe tbody tr th:only-of-type {\n",
       "        vertical-align: middle;\n",
       "    }\n",
       "\n",
       "    .dataframe tbody tr th {\n",
       "        vertical-align: top;\n",
       "    }\n",
       "\n",
       "    .dataframe thead th {\n",
       "        text-align: right;\n",
       "    }\n",
       "</style>\n",
       "<table border=\"1\" class=\"dataframe\">\n",
       "  <thead>\n",
       "    <tr style=\"text-align: right;\">\n",
       "      <th></th>\n",
       "      <th>date</th>\n",
       "      <th>Temperature</th>\n",
       "      <th>Humidity</th>\n",
       "      <th>Light</th>\n",
       "      <th>CO2</th>\n",
       "      <th>HumidityRatio</th>\n",
       "      <th>Occupancy</th>\n",
       "    </tr>\n",
       "  </thead>\n",
       "  <tbody>\n",
       "    <tr>\n",
       "      <th>0</th>\n",
       "      <td>2015-02-04 17:51:00</td>\n",
       "      <td>23.18</td>\n",
       "      <td>27.2720</td>\n",
       "      <td>426.0</td>\n",
       "      <td>721.25</td>\n",
       "      <td>0.004793</td>\n",
       "      <td>1</td>\n",
       "    </tr>\n",
       "    <tr>\n",
       "      <th>1</th>\n",
       "      <td>2015-02-04 17:51:59</td>\n",
       "      <td>23.15</td>\n",
       "      <td>27.2675</td>\n",
       "      <td>429.5</td>\n",
       "      <td>714.00</td>\n",
       "      <td>0.004783</td>\n",
       "      <td>1</td>\n",
       "    </tr>\n",
       "    <tr>\n",
       "      <th>2</th>\n",
       "      <td>2015-02-04 17:53:00</td>\n",
       "      <td>NaN</td>\n",
       "      <td>27.2450</td>\n",
       "      <td>426.0</td>\n",
       "      <td>NaN</td>\n",
       "      <td>0.004779</td>\n",
       "      <td>1</td>\n",
       "    </tr>\n",
       "    <tr>\n",
       "      <th>3</th>\n",
       "      <td>2015-02-04 17:54:00</td>\n",
       "      <td>23.15</td>\n",
       "      <td>27.2000</td>\n",
       "      <td>426.0</td>\n",
       "      <td>708.25</td>\n",
       "      <td>0.004772</td>\n",
       "      <td>1</td>\n",
       "    </tr>\n",
       "    <tr>\n",
       "      <th>4</th>\n",
       "      <td>2015-02-04 17:55:00</td>\n",
       "      <td>NaN</td>\n",
       "      <td>27.2000</td>\n",
       "      <td>426.0</td>\n",
       "      <td>NaN</td>\n",
       "      <td>0.004757</td>\n",
       "      <td>1</td>\n",
       "    </tr>\n",
       "  </tbody>\n",
       "</table>\n",
       "</div>"
      ],
      "text/plain": [
       "                  date  Temperature  Humidity  Light     CO2  HumidityRatio  \\\n",
       "0  2015-02-04 17:51:00        23.18   27.2720  426.0  721.25       0.004793   \n",
       "1  2015-02-04 17:51:59        23.15   27.2675  429.5  714.00       0.004783   \n",
       "2  2015-02-04 17:53:00          NaN   27.2450  426.0     NaN       0.004779   \n",
       "3  2015-02-04 17:54:00        23.15   27.2000  426.0  708.25       0.004772   \n",
       "4  2015-02-04 17:55:00          NaN   27.2000  426.0     NaN       0.004757   \n",
       "\n",
       "   Occupancy  \n",
       "0          1  \n",
       "1          1  \n",
       "2          1  \n",
       "3          1  \n",
       "4          1  "
      ]
     },
     "execution_count": 34,
     "metadata": {},
     "output_type": "execute_result"
    }
   ],
   "source": [
    "df_train.head() # look first 5 row."
   ]
  },
  {
   "cell_type": "code",
   "execution_count": 35,
   "metadata": {},
   "outputs": [],
   "source": [
    "# We can see that there are NaN values in df_train so let's look info about datasets."
   ]
  },
  {
   "cell_type": "code",
   "execution_count": 36,
   "metadata": {},
   "outputs": [
    {
     "name": "stdout",
     "output_type": "stream",
     "text": [
      "<class 'pandas.core.frame.DataFrame'>\n",
      "RangeIndex: 8143 entries, 0 to 8142\n",
      "Data columns (total 7 columns):\n",
      " #   Column         Non-Null Count  Dtype  \n",
      "---  ------         --------------  -----  \n",
      " 0   date           8143 non-null   object \n",
      " 1   Temperature    7763 non-null   float64\n",
      " 2   Humidity       8143 non-null   float64\n",
      " 3   Light          8143 non-null   float64\n",
      " 4   CO2            7633 non-null   float64\n",
      " 5   HumidityRatio  8143 non-null   float64\n",
      " 6   Occupancy      8143 non-null   int64  \n",
      "dtypes: float64(5), int64(1), object(1)\n",
      "memory usage: 445.4+ KB\n"
     ]
    }
   ],
   "source": [
    "df_train.info()"
   ]
  },
  {
   "cell_type": "code",
   "execution_count": 37,
   "metadata": {},
   "outputs": [
    {
     "name": "stdout",
     "output_type": "stream",
     "text": [
      "<class 'pandas.core.frame.DataFrame'>\n",
      "RangeIndex: 2665 entries, 0 to 2664\n",
      "Data columns (total 7 columns):\n",
      " #   Column         Non-Null Count  Dtype  \n",
      "---  ------         --------------  -----  \n",
      " 0   date           2665 non-null   object \n",
      " 1   Temperature    2665 non-null   float64\n",
      " 2   Humidity       2665 non-null   float64\n",
      " 3   Light          2665 non-null   float64\n",
      " 4   CO2            2665 non-null   float64\n",
      " 5   HumidityRatio  2665 non-null   float64\n",
      " 6   Occupancy      2665 non-null   int64  \n",
      "dtypes: float64(5), int64(1), object(1)\n",
      "memory usage: 145.9+ KB\n"
     ]
    }
   ],
   "source": [
    "df_dev.info()"
   ]
  },
  {
   "cell_type": "code",
   "execution_count": 38,
   "metadata": {
    "scrolled": true
   },
   "outputs": [
    {
     "name": "stdout",
     "output_type": "stream",
     "text": [
      "<class 'pandas.core.frame.DataFrame'>\n",
      "RangeIndex: 9752 entries, 0 to 9751\n",
      "Data columns (total 7 columns):\n",
      " #   Column         Non-Null Count  Dtype  \n",
      "---  ------         --------------  -----  \n",
      " 0   date           9752 non-null   object \n",
      " 1   Temperature    9752 non-null   float64\n",
      " 2   Humidity       9752 non-null   float64\n",
      " 3   Light          9752 non-null   float64\n",
      " 4   CO2            9752 non-null   float64\n",
      " 5   HumidityRatio  9752 non-null   float64\n",
      " 6   Occupancy      9752 non-null   int64  \n",
      "dtypes: float64(5), int64(1), object(1)\n",
      "memory usage: 533.4+ KB\n"
     ]
    }
   ],
   "source": [
    "df_test.info()"
   ]
  },
  {
   "cell_type": "code",
   "execution_count": 39,
   "metadata": {},
   "outputs": [
    {
     "data": {
      "text/plain": [
       "\"\\n# Train dataset : \\nThere are 8143 rows and 6 columns. It's mean we have 6 features which 5 of them is using to predict occupancy room.\\nDate feature's type is Object and others is numerical.\\n\\n# Dev dataset : \\nThere are 2665 rows and 6 columns. It's mean we have 6 features which 5 of them is using to predict occupancy room.\\nDate feature's type is Object and others is numerical.\\n\\n# Test dataset : \\nThere are 9752 rows and 6 columns. It's mean we have 6 features which 5 of them is using to predict occupancy room.\\nDate feature's type is Object and others is numerical.\\n\""
      ]
     },
     "execution_count": 39,
     "metadata": {},
     "output_type": "execute_result"
    }
   ],
   "source": [
    "'''\n",
    "# Train dataset : \n",
    "There are 8143 rows and 6 columns. It's mean we have 6 features which 5 of them is using to predict occupancy room.\n",
    "Date feature's type is Object and others is numerical.\n",
    "\n",
    "# Dev dataset : \n",
    "There are 2665 rows and 6 columns. It's mean we have 6 features which 5 of them is using to predict occupancy room.\n",
    "Date feature's type is Object and others is numerical.\n",
    "\n",
    "# Test dataset : \n",
    "There are 9752 rows and 6 columns. It's mean we have 6 features which 5 of them is using to predict occupancy room.\n",
    "Date feature's type is Object and others is numerical.\n",
    "'''"
   ]
  },
  {
   "cell_type": "code",
   "execution_count": 40,
   "metadata": {},
   "outputs": [],
   "source": [
    "def isMissingValue(df,name):\n",
    "  '''\n",
    "  Input: an original data frame.\n",
    "  Output : return yes or not answer.And if yes shows which class has nan values and their numbers.\n",
    "  '''\n",
    "  na_checker = df.isna().any().sum()\n",
    "  if na_checker > 0:\n",
    "    print(\"Are there any missing/NaN values in \",name,\"set? : Yes\")\n",
    "    print(\"\\n\\tCounts\")\n",
    "    print(df.isna().sum())\n",
    "  else:\n",
    "    print(\"Are there any missing/NaN values in \",name,\"set? : No \")"
   ]
  },
  {
   "cell_type": "code",
   "execution_count": 41,
   "metadata": {},
   "outputs": [
    {
     "name": "stdout",
     "output_type": "stream",
     "text": [
      "Are there any missing/NaN values in  Train set? : Yes\n",
      "\n",
      "\tCounts\n",
      "date               0\n",
      "Temperature      380\n",
      "Humidity           0\n",
      "Light              0\n",
      "CO2              510\n",
      "HumidityRatio      0\n",
      "Occupancy          0\n",
      "dtype: int64\n",
      "Are there any missing/NaN values in  Dev set? : No \n",
      "Are there any missing/NaN values in  Test set? : No \n"
     ]
    }
   ],
   "source": [
    "isMissingValue(df_train,'Train')\n",
    "isMissingValue(df_dev,'Dev')\n",
    "isMissingValue(df_test,'Test')"
   ]
  },
  {
   "cell_type": "code",
   "execution_count": 42,
   "metadata": {},
   "outputs": [
    {
     "data": {
      "text/plain": [
       "\"\\nWe can see there are missing values in train dataset. Other datasets have not missing values.\\nSo let's fill missing values in train dataset.\\n\""
      ]
     },
     "execution_count": 42,
     "metadata": {},
     "output_type": "execute_result"
    }
   ],
   "source": [
    "'''\n",
    "We can see there are missing values in train dataset. Other datasets have not missing values.\n",
    "So let's fill missing values in train dataset.\n",
    "'''"
   ]
  },
  {
   "cell_type": "markdown",
   "metadata": {},
   "source": [
    "## 4. Data Preprocessing"
   ]
  },
  {
   "cell_type": "code",
   "execution_count": 43,
   "metadata": {},
   "outputs": [
    {
     "name": "stdout",
     "output_type": "stream",
     "text": [
      "train.csv is splitted as X and y\n",
      "dev.csv is splitted as X and y\n",
      "test.csv is splitted as X and y\n"
     ]
    }
   ],
   "source": [
    "def divide_dataset(dataset,cols_X,col_y):\n",
    "    '''\n",
    "    This function split our dataset as X and y. \n",
    "    Input : the dataset path.\n",
    "    '''\n",
    "    X = pd.read_csv(dataset,sep=',',usecols = cols_X)\n",
    "    y = pd.read_csv(dataset,sep=',',usecols = col_y)\n",
    "    print(f\"{dataset.split(sep='/')[-1]} is splitted as X and y\")\n",
    "    return X,y\n",
    "\n",
    "cols_X = ['date','Temperature','Humidity','Light','CO2','HumidityRatio']\n",
    "col_y = ['Occupancy']\n",
    "\n",
    "df_train_X,df_train_y = divide_dataset(ds_train,cols_X,col_y)\n",
    "df_dev_X,df_dev_y = divide_dataset(ds_dev,cols_X,col_y)\n",
    "df_test_X,df_test_y = divide_dataset(ds_test,cols_X,col_y)\n"
   ]
  },
  {
   "cell_type": "code",
   "execution_count": 44,
   "metadata": {},
   "outputs": [],
   "source": [
    "def fillAsMean(df,missing_features):\n",
    "    '''\n",
    "    Inputs:\n",
    "    df -- A dataframe has missing values\n",
    "    missing_features -- column names of the data frame\n",
    "    \n",
    "    Outputs:\n",
    "    return dataframe has no missing values , it's mean filled dataframe.\n",
    "    '''\n",
    "    size = len(missing_features)\n",
    "    for i in range(size):\n",
    "      feature_name = missing_features[i]\n",
    "      avg = np.mean(df.get(feature_name)) \n",
    "      df[feature_name] = df[feature_name].fillna(avg)\n",
    "      print(f'Missing values are filled with average of {feature_name} columns.')\n",
    "    return df"
   ]
  },
  {
   "cell_type": "code",
   "execution_count": 45,
   "metadata": {
    "scrolled": false
   },
   "outputs": [
    {
     "name": "stdout",
     "output_type": "stream",
     "text": [
      "Missing values are filled with average of Temperature columns.\n",
      "Missing values are filled with average of CO2 columns.\n"
     ]
    }
   ],
   "source": [
    "missing_features = ['Temperature','CO2']\n",
    "\n",
    "df_train_X = fillAsMean(df_train_X,missing_features)"
   ]
  },
  {
   "cell_type": "code",
   "execution_count": 46,
   "metadata": {},
   "outputs": [
    {
     "data": {
      "text/plain": [
       "date             False\n",
       "Temperature      False\n",
       "Humidity         False\n",
       "Light            False\n",
       "CO2              False\n",
       "HumidityRatio    False\n",
       "dtype: bool"
      ]
     },
     "execution_count": 46,
     "metadata": {},
     "output_type": "execute_result"
    }
   ],
   "source": [
    "df_train_X.isna().any()"
   ]
  },
  {
   "cell_type": "code",
   "execution_count": 47,
   "metadata": {},
   "outputs": [
    {
     "data": {
      "text/html": [
       "<div>\n",
       "<style scoped>\n",
       "    .dataframe tbody tr th:only-of-type {\n",
       "        vertical-align: middle;\n",
       "    }\n",
       "\n",
       "    .dataframe tbody tr th {\n",
       "        vertical-align: top;\n",
       "    }\n",
       "\n",
       "    .dataframe thead th {\n",
       "        text-align: right;\n",
       "    }\n",
       "</style>\n",
       "<table border=\"1\" class=\"dataframe\">\n",
       "  <thead>\n",
       "    <tr style=\"text-align: right;\">\n",
       "      <th></th>\n",
       "      <th>Temperature</th>\n",
       "      <th>Humidity</th>\n",
       "      <th>Light</th>\n",
       "      <th>CO2</th>\n",
       "      <th>HumidityRatio</th>\n",
       "    </tr>\n",
       "  </thead>\n",
       "  <tbody>\n",
       "    <tr>\n",
       "      <th>count</th>\n",
       "      <td>2665.000000</td>\n",
       "      <td>2665.000000</td>\n",
       "      <td>2665.000000</td>\n",
       "      <td>2665.000000</td>\n",
       "      <td>2665.000000</td>\n",
       "    </tr>\n",
       "    <tr>\n",
       "      <th>mean</th>\n",
       "      <td>21.433876</td>\n",
       "      <td>25.353937</td>\n",
       "      <td>193.227556</td>\n",
       "      <td>717.906470</td>\n",
       "      <td>0.004027</td>\n",
       "    </tr>\n",
       "    <tr>\n",
       "      <th>std</th>\n",
       "      <td>1.028024</td>\n",
       "      <td>2.436842</td>\n",
       "      <td>250.210906</td>\n",
       "      <td>292.681718</td>\n",
       "      <td>0.000611</td>\n",
       "    </tr>\n",
       "    <tr>\n",
       "      <th>min</th>\n",
       "      <td>20.200000</td>\n",
       "      <td>22.100000</td>\n",
       "      <td>0.000000</td>\n",
       "      <td>427.500000</td>\n",
       "      <td>0.003303</td>\n",
       "    </tr>\n",
       "    <tr>\n",
       "      <th>25%</th>\n",
       "      <td>20.650000</td>\n",
       "      <td>23.260000</td>\n",
       "      <td>0.000000</td>\n",
       "      <td>466.000000</td>\n",
       "      <td>0.003529</td>\n",
       "    </tr>\n",
       "    <tr>\n",
       "      <th>50%</th>\n",
       "      <td>20.890000</td>\n",
       "      <td>25.000000</td>\n",
       "      <td>0.000000</td>\n",
       "      <td>580.500000</td>\n",
       "      <td>0.003815</td>\n",
       "    </tr>\n",
       "    <tr>\n",
       "      <th>75%</th>\n",
       "      <td>22.356667</td>\n",
       "      <td>26.856667</td>\n",
       "      <td>442.500000</td>\n",
       "      <td>956.333333</td>\n",
       "      <td>0.004532</td>\n",
       "    </tr>\n",
       "    <tr>\n",
       "      <th>max</th>\n",
       "      <td>24.408333</td>\n",
       "      <td>31.472500</td>\n",
       "      <td>1697.250000</td>\n",
       "      <td>1402.250000</td>\n",
       "      <td>0.005378</td>\n",
       "    </tr>\n",
       "  </tbody>\n",
       "</table>\n",
       "</div>"
      ],
      "text/plain": [
       "       Temperature     Humidity        Light          CO2  HumidityRatio\n",
       "count  2665.000000  2665.000000  2665.000000  2665.000000    2665.000000\n",
       "mean     21.433876    25.353937   193.227556   717.906470       0.004027\n",
       "std       1.028024     2.436842   250.210906   292.681718       0.000611\n",
       "min      20.200000    22.100000     0.000000   427.500000       0.003303\n",
       "25%      20.650000    23.260000     0.000000   466.000000       0.003529\n",
       "50%      20.890000    25.000000     0.000000   580.500000       0.003815\n",
       "75%      22.356667    26.856667   442.500000   956.333333       0.004532\n",
       "max      24.408333    31.472500  1697.250000  1402.250000       0.005378"
      ]
     },
     "execution_count": 47,
     "metadata": {},
     "output_type": "execute_result"
    }
   ],
   "source": [
    "df_dev_X.describe()"
   ]
  },
  {
   "cell_type": "code",
   "execution_count": 48,
   "metadata": {},
   "outputs": [
    {
     "data": {
      "text/html": [
       "<div>\n",
       "<style scoped>\n",
       "    .dataframe tbody tr th:only-of-type {\n",
       "        vertical-align: middle;\n",
       "    }\n",
       "\n",
       "    .dataframe tbody tr th {\n",
       "        vertical-align: top;\n",
       "    }\n",
       "\n",
       "    .dataframe thead th {\n",
       "        text-align: right;\n",
       "    }\n",
       "</style>\n",
       "<table border=\"1\" class=\"dataframe\">\n",
       "  <thead>\n",
       "    <tr style=\"text-align: right;\">\n",
       "      <th></th>\n",
       "      <th>Temperature</th>\n",
       "      <th>Humidity</th>\n",
       "      <th>Light</th>\n",
       "      <th>CO2</th>\n",
       "      <th>HumidityRatio</th>\n",
       "    </tr>\n",
       "  </thead>\n",
       "  <tbody>\n",
       "    <tr>\n",
       "      <th>count</th>\n",
       "      <td>9752.000000</td>\n",
       "      <td>9752.000000</td>\n",
       "      <td>9752.000000</td>\n",
       "      <td>9752.000000</td>\n",
       "      <td>9752.000000</td>\n",
       "    </tr>\n",
       "    <tr>\n",
       "      <th>mean</th>\n",
       "      <td>21.001768</td>\n",
       "      <td>29.891910</td>\n",
       "      <td>123.067930</td>\n",
       "      <td>753.224832</td>\n",
       "      <td>0.004589</td>\n",
       "    </tr>\n",
       "    <tr>\n",
       "      <th>std</th>\n",
       "      <td>1.020693</td>\n",
       "      <td>3.952844</td>\n",
       "      <td>208.221275</td>\n",
       "      <td>297.096114</td>\n",
       "      <td>0.000531</td>\n",
       "    </tr>\n",
       "    <tr>\n",
       "      <th>min</th>\n",
       "      <td>19.500000</td>\n",
       "      <td>21.865000</td>\n",
       "      <td>0.000000</td>\n",
       "      <td>484.666667</td>\n",
       "      <td>0.003275</td>\n",
       "    </tr>\n",
       "    <tr>\n",
       "      <th>25%</th>\n",
       "      <td>20.290000</td>\n",
       "      <td>26.642083</td>\n",
       "      <td>0.000000</td>\n",
       "      <td>542.312500</td>\n",
       "      <td>0.004196</td>\n",
       "    </tr>\n",
       "    <tr>\n",
       "      <th>50%</th>\n",
       "      <td>20.790000</td>\n",
       "      <td>30.200000</td>\n",
       "      <td>0.000000</td>\n",
       "      <td>639.000000</td>\n",
       "      <td>0.004593</td>\n",
       "    </tr>\n",
       "    <tr>\n",
       "      <th>75%</th>\n",
       "      <td>21.533333</td>\n",
       "      <td>32.700000</td>\n",
       "      <td>208.250000</td>\n",
       "      <td>831.125000</td>\n",
       "      <td>0.004998</td>\n",
       "    </tr>\n",
       "    <tr>\n",
       "      <th>max</th>\n",
       "      <td>24.390000</td>\n",
       "      <td>39.500000</td>\n",
       "      <td>1581.000000</td>\n",
       "      <td>2076.500000</td>\n",
       "      <td>0.005769</td>\n",
       "    </tr>\n",
       "  </tbody>\n",
       "</table>\n",
       "</div>"
      ],
      "text/plain": [
       "       Temperature     Humidity        Light          CO2  HumidityRatio\n",
       "count  9752.000000  9752.000000  9752.000000  9752.000000    9752.000000\n",
       "mean     21.001768    29.891910   123.067930   753.224832       0.004589\n",
       "std       1.020693     3.952844   208.221275   297.096114       0.000531\n",
       "min      19.500000    21.865000     0.000000   484.666667       0.003275\n",
       "25%      20.290000    26.642083     0.000000   542.312500       0.004196\n",
       "50%      20.790000    30.200000     0.000000   639.000000       0.004593\n",
       "75%      21.533333    32.700000   208.250000   831.125000       0.004998\n",
       "max      24.390000    39.500000  1581.000000  2076.500000       0.005769"
      ]
     },
     "execution_count": 48,
     "metadata": {},
     "output_type": "execute_result"
    }
   ],
   "source": [
    "df_test_X.describe()"
   ]
  },
  {
   "cell_type": "code",
   "execution_count": 49,
   "metadata": {},
   "outputs": [
    {
     "data": {
      "text/plain": [
       "date              object\n",
       "Temperature      float64\n",
       "Humidity         float64\n",
       "Light            float64\n",
       "CO2              float64\n",
       "HumidityRatio    float64\n",
       "dtype: object"
      ]
     },
     "execution_count": 49,
     "metadata": {},
     "output_type": "execute_result"
    }
   ],
   "source": [
    "'''\n",
    "Above, we can see min,max,mean,std and count values.Also,We can't see date column above.\n",
    "Because Date column's type is Object. If we trained our model, \n",
    "this column will be used as training . \n",
    "So we should convert datetime to numeric.\n",
    "'''\n",
    "df_train_X.dtypes"
   ]
  },
  {
   "cell_type": "code",
   "execution_count": 50,
   "metadata": {},
   "outputs": [],
   "source": [
    "def dateTimeConverter(df):\n",
    "  '''\n",
    "  Input: df -- a dataframe will be converted to datetime. \n",
    "  Output: return df -- the dataframe's datetime column is converted  as numeric.\n",
    "  '''\n",
    "  try:\n",
    "    df[\"date\"] = pd.to_datetime(df[\"date\"])\n",
    "    df[\"date\"] = pd.Float64Index(df[\"date\"])\n",
    "    print(\"Date time converting process is successed.\")\n",
    "  except:\n",
    "    print(\"Exception Occured Step: Datetime Convert!\")\n",
    "  return df\n"
   ]
  },
  {
   "cell_type": "code",
   "execution_count": 51,
   "metadata": {},
   "outputs": [
    {
     "name": "stdout",
     "output_type": "stream",
     "text": [
      "Date time converting process is successed.\n",
      "Date time converting process is successed.\n",
      "Date time converting process is successed.\n"
     ]
    },
    {
     "name": "stderr",
     "output_type": "stream",
     "text": [
      "/var/folders/2n/215z1l7501174_bngr0ljz280000gn/T/ipykernel_3759/680037387.py:8: FutureWarning: pandas.Float64Index is deprecated and will be removed from pandas in a future version. Use pandas.Index with the appropriate dtype instead.\n",
      "  df[\"date\"] = pd.Float64Index(df[\"date\"])\n",
      "/var/folders/2n/215z1l7501174_bngr0ljz280000gn/T/ipykernel_3759/680037387.py:8: FutureWarning: pandas.Float64Index is deprecated and will be removed from pandas in a future version. Use pandas.Index with the appropriate dtype instead.\n",
      "  df[\"date\"] = pd.Float64Index(df[\"date\"])\n",
      "/var/folders/2n/215z1l7501174_bngr0ljz280000gn/T/ipykernel_3759/680037387.py:8: FutureWarning: pandas.Float64Index is deprecated and will be removed from pandas in a future version. Use pandas.Index with the appropriate dtype instead.\n",
      "  df[\"date\"] = pd.Float64Index(df[\"date\"])\n"
     ]
    }
   ],
   "source": [
    "df_train_X = dateTimeConverter(df_train_X)\n",
    "df_dev_X = dateTimeConverter(df_dev_X)\n",
    "df_test_X = dateTimeConverter(df_test_X)"
   ]
  },
  {
   "cell_type": "code",
   "execution_count": 52,
   "metadata": {},
   "outputs": [
    {
     "data": {
      "text/plain": [
       "date             float64\n",
       "Temperature      float64\n",
       "Humidity         float64\n",
       "Light            float64\n",
       "CO2              float64\n",
       "HumidityRatio    float64\n",
       "dtype: object"
      ]
     },
     "execution_count": 52,
     "metadata": {},
     "output_type": "execute_result"
    }
   ],
   "source": [
    "df_train_X.dtypes"
   ]
  },
  {
   "cell_type": "code",
   "execution_count": 53,
   "metadata": {},
   "outputs": [],
   "source": [
    "def trundle(df,features):\n",
    "  '''\n",
    "  Inputs : df -- a dataframe has values will rounded.\n",
    "          feature_name -- column name has values will rounded.\n",
    "  Output: return df -- a dataframe has rounded values.\n",
    "  '''\n",
    "  for feature_name in features:\n",
    "    df[feature_name] = round(df[feature_name],5)\n",
    "    print(feature_name,\" Rounded operation is successful !\")\n",
    "  print(\"\\n\\n\")\n",
    "  return df"
   ]
  },
  {
   "cell_type": "code",
   "execution_count": 54,
   "metadata": {},
   "outputs": [
    {
     "name": "stdout",
     "output_type": "stream",
     "text": [
      "date  Rounded operation is successful !\n",
      "Temperature  Rounded operation is successful !\n",
      "Humidity  Rounded operation is successful !\n",
      "Light  Rounded operation is successful !\n",
      "CO2  Rounded operation is successful !\n",
      "HumidityRatio  Rounded operation is successful !\n",
      "\n",
      "\n",
      "\n",
      "date  Rounded operation is successful !\n",
      "Temperature  Rounded operation is successful !\n",
      "Humidity  Rounded operation is successful !\n",
      "Light  Rounded operation is successful !\n",
      "CO2  Rounded operation is successful !\n",
      "HumidityRatio  Rounded operation is successful !\n",
      "\n",
      "\n",
      "\n",
      "date  Rounded operation is successful !\n",
      "Temperature  Rounded operation is successful !\n",
      "Humidity  Rounded operation is successful !\n",
      "Light  Rounded operation is successful !\n",
      "CO2  Rounded operation is successful !\n",
      "HumidityRatio  Rounded operation is successful !\n",
      "\n",
      "\n",
      "\n"
     ]
    }
   ],
   "source": [
    "features = df_train_X.columns\n",
    "df_train_X = trundle(df_train_X,features)\n",
    "df_dev_X = trundle(df_dev_X,features)\n",
    "df_test_X = trundle(df_test_X,features)"
   ]
  },
  {
   "cell_type": "code",
   "execution_count": 55,
   "metadata": {},
   "outputs": [
    {
     "data": {
      "text/html": [
       "<div>\n",
       "<style scoped>\n",
       "    .dataframe tbody tr th:only-of-type {\n",
       "        vertical-align: middle;\n",
       "    }\n",
       "\n",
       "    .dataframe tbody tr th {\n",
       "        vertical-align: top;\n",
       "    }\n",
       "\n",
       "    .dataframe thead th {\n",
       "        text-align: right;\n",
       "    }\n",
       "</style>\n",
       "<table border=\"1\" class=\"dataframe\">\n",
       "  <thead>\n",
       "    <tr style=\"text-align: right;\">\n",
       "      <th></th>\n",
       "      <th>date</th>\n",
       "      <th>Temperature</th>\n",
       "      <th>Humidity</th>\n",
       "      <th>Light</th>\n",
       "      <th>CO2</th>\n",
       "      <th>HumidityRatio</th>\n",
       "    </tr>\n",
       "  </thead>\n",
       "  <tbody>\n",
       "    <tr>\n",
       "      <th>0</th>\n",
       "      <td>1.423072e+18</td>\n",
       "      <td>23.18000</td>\n",
       "      <td>27.2720</td>\n",
       "      <td>426.0</td>\n",
       "      <td>721.25000</td>\n",
       "      <td>0.00479</td>\n",
       "    </tr>\n",
       "    <tr>\n",
       "      <th>1</th>\n",
       "      <td>1.423072e+18</td>\n",
       "      <td>23.15000</td>\n",
       "      <td>27.2675</td>\n",
       "      <td>429.5</td>\n",
       "      <td>714.00000</td>\n",
       "      <td>0.00478</td>\n",
       "    </tr>\n",
       "    <tr>\n",
       "      <th>2</th>\n",
       "      <td>1.423072e+18</td>\n",
       "      <td>20.57617</td>\n",
       "      <td>27.2450</td>\n",
       "      <td>426.0</td>\n",
       "      <td>604.03209</td>\n",
       "      <td>0.00478</td>\n",
       "    </tr>\n",
       "    <tr>\n",
       "      <th>3</th>\n",
       "      <td>1.423072e+18</td>\n",
       "      <td>23.15000</td>\n",
       "      <td>27.2000</td>\n",
       "      <td>426.0</td>\n",
       "      <td>708.25000</td>\n",
       "      <td>0.00477</td>\n",
       "    </tr>\n",
       "    <tr>\n",
       "      <th>4</th>\n",
       "      <td>1.423072e+18</td>\n",
       "      <td>20.57617</td>\n",
       "      <td>27.2000</td>\n",
       "      <td>426.0</td>\n",
       "      <td>604.03209</td>\n",
       "      <td>0.00476</td>\n",
       "    </tr>\n",
       "    <tr>\n",
       "      <th>...</th>\n",
       "      <td>...</td>\n",
       "      <td>...</td>\n",
       "      <td>...</td>\n",
       "      <td>...</td>\n",
       "      <td>...</td>\n",
       "      <td>...</td>\n",
       "    </tr>\n",
       "    <tr>\n",
       "      <th>8138</th>\n",
       "      <td>1.423561e+18</td>\n",
       "      <td>21.05000</td>\n",
       "      <td>36.0975</td>\n",
       "      <td>433.0</td>\n",
       "      <td>787.25000</td>\n",
       "      <td>0.00558</td>\n",
       "    </tr>\n",
       "    <tr>\n",
       "      <th>8139</th>\n",
       "      <td>1.423561e+18</td>\n",
       "      <td>21.05000</td>\n",
       "      <td>35.9950</td>\n",
       "      <td>433.0</td>\n",
       "      <td>789.50000</td>\n",
       "      <td>0.00556</td>\n",
       "    </tr>\n",
       "    <tr>\n",
       "      <th>8140</th>\n",
       "      <td>1.423561e+18</td>\n",
       "      <td>21.10000</td>\n",
       "      <td>36.0950</td>\n",
       "      <td>433.0</td>\n",
       "      <td>798.50000</td>\n",
       "      <td>0.00560</td>\n",
       "    </tr>\n",
       "    <tr>\n",
       "      <th>8141</th>\n",
       "      <td>1.423561e+18</td>\n",
       "      <td>21.10000</td>\n",
       "      <td>36.2600</td>\n",
       "      <td>433.0</td>\n",
       "      <td>820.33333</td>\n",
       "      <td>0.00562</td>\n",
       "    </tr>\n",
       "    <tr>\n",
       "      <th>8142</th>\n",
       "      <td>1.423561e+18</td>\n",
       "      <td>21.10000</td>\n",
       "      <td>36.2000</td>\n",
       "      <td>447.0</td>\n",
       "      <td>821.00000</td>\n",
       "      <td>0.00561</td>\n",
       "    </tr>\n",
       "  </tbody>\n",
       "</table>\n",
       "<p>8143 rows × 6 columns</p>\n",
       "</div>"
      ],
      "text/plain": [
       "              date  Temperature  Humidity  Light        CO2  HumidityRatio\n",
       "0     1.423072e+18     23.18000   27.2720  426.0  721.25000        0.00479\n",
       "1     1.423072e+18     23.15000   27.2675  429.5  714.00000        0.00478\n",
       "2     1.423072e+18     20.57617   27.2450  426.0  604.03209        0.00478\n",
       "3     1.423072e+18     23.15000   27.2000  426.0  708.25000        0.00477\n",
       "4     1.423072e+18     20.57617   27.2000  426.0  604.03209        0.00476\n",
       "...            ...          ...       ...    ...        ...            ...\n",
       "8138  1.423561e+18     21.05000   36.0975  433.0  787.25000        0.00558\n",
       "8139  1.423561e+18     21.05000   35.9950  433.0  789.50000        0.00556\n",
       "8140  1.423561e+18     21.10000   36.0950  433.0  798.50000        0.00560\n",
       "8141  1.423561e+18     21.10000   36.2600  433.0  820.33333        0.00562\n",
       "8142  1.423561e+18     21.10000   36.2000  447.0  821.00000        0.00561\n",
       "\n",
       "[8143 rows x 6 columns]"
      ]
     },
     "execution_count": 55,
     "metadata": {},
     "output_type": "execute_result"
    }
   ],
   "source": [
    "df_train_X"
   ]
  },
  {
   "cell_type": "code",
   "execution_count": 56,
   "metadata": {},
   "outputs": [],
   "source": [
    "'''\n",
    "add functions is taken same input and return same output.\n",
    "Input : df -- our real dataframe.\n",
    "Output : return another dataframe. The dataframe has new feature.\n",
    "'''\n",
    "def add_TempLight(df):\n",
    "  df_has_new_feature = df\n",
    "  df_has_new_feature.columns = df.columns\n",
    "  try:\n",
    "    df_has_new_feature['Temp*Light']=df_has_new_feature['Temperature'] * (df_has_new_feature)[\"Light\"]\n",
    "    print(\"Temp x Ligth feature is added !\")\n",
    "  except:\n",
    "    print(\"Exception occured: Co2 x HR feature is NOT added !\")\n",
    "  return (df_has_new_feature)\n",
    "\n",
    "def add_CO2Temp(df):\n",
    "  df_has_new_feature = df\n",
    "  df_has_new_feature.columns = df.columns\n",
    "  try:\n",
    "    df_has_new_feature['CO2*Temp']=df_has_new_feature['CO2'] * (df_has_new_feature)[\"Temperature\"]\n",
    "    print(\"Co2 x Temperature feature is added !\")\n",
    "  except:\n",
    "    print(\"CO2 x Temperature feature is NOT added !\")\n",
    "  return (df_has_new_feature)\n"
   ]
  },
  {
   "cell_type": "code",
   "execution_count": 57,
   "metadata": {},
   "outputs": [
    {
     "name": "stdout",
     "output_type": "stream",
     "text": [
      "Train-Set\n",
      "Temp x Ligth feature is added !\n",
      "Co2 x Temperature feature is added !\n",
      "\n",
      "Dev-Set\n",
      "Temp x Ligth feature is added !\n",
      "Co2 x Temperature feature is added !\n",
      "\n",
      "Test-Set\n",
      "Temp x Ligth feature is added !\n",
      "Co2 x Temperature feature is added !\n"
     ]
    }
   ],
   "source": [
    "# Add new Features All Datasets.\n",
    "print(\"Train-Set\")\n",
    "train_X = add_TempLight(df_train_X)\n",
    "train_X = add_CO2Temp(df_train_X)\n",
    "print(\"\\nDev-Set\")\n",
    "dev_X = add_TempLight(df_dev_X)\n",
    "dev_X = add_CO2Temp(df_dev_X)\n",
    "print(\"\\nTest-Set\")\n",
    "test_X = add_TempLight(df_test_X)\n",
    "test_X = add_CO2Temp(df_test_X)"
   ]
  },
  {
   "cell_type": "code",
   "execution_count": 58,
   "metadata": {},
   "outputs": [],
   "source": [
    "'''\n",
    "Scaling - I will use StandardScaler.StandardScaler is using Z-Score , \n",
    "z = (x-u) /s\n",
    "x is our actual data. \n",
    "u is our data's mean. If with_mean = False will be 0(etkisiz eleman) . \n",
    "s is our data's standart deviation. If with_std = False will be 1(etkisiz eleman).\n",
    "'''\n",
    "scaler = StandardScaler()\n",
    "def df_scaler(df,name):\n",
    "  '''\n",
    "  Input : df - dataframe\n",
    "          name - dataframe's name.\n",
    "  Output : df - dataframe is scaled.\n",
    "  '''\n",
    "  try:\n",
    "    df_scaled = scaler.fit_transform(df)\n",
    "    df = pd.DataFrame(df_scaled,columns=df.columns)\n",
    "    print(name,\"is scaled successfully!\")\n",
    "  except:\n",
    "    print(\"Exception occured step: Train Scaling!\")\n",
    "  return df"
   ]
  },
  {
   "cell_type": "code",
   "execution_count": 59,
   "metadata": {},
   "outputs": [
    {
     "name": "stdout",
     "output_type": "stream",
     "text": [
      "Train is scaled successfully!\n",
      "Dev is scaled successfully!\n",
      "Test is scaled successfully!\n"
     ]
    }
   ],
   "source": [
    "train_X_scaled = df_scaler(train_X,'Train')\n",
    "dev_X_scaled = df_scaler(dev_X,'Dev')\n",
    "test_X_scaled = df_scaler(test_X,'Test')"
   ]
  },
  {
   "cell_type": "code",
   "execution_count": 60,
   "metadata": {},
   "outputs": [
    {
     "data": {
      "text/html": [
       "<div>\n",
       "<style scoped>\n",
       "    .dataframe tbody tr th:only-of-type {\n",
       "        vertical-align: middle;\n",
       "    }\n",
       "\n",
       "    .dataframe tbody tr th {\n",
       "        vertical-align: top;\n",
       "    }\n",
       "\n",
       "    .dataframe thead th {\n",
       "        text-align: right;\n",
       "    }\n",
       "</style>\n",
       "<table border=\"1\" class=\"dataframe\">\n",
       "  <thead>\n",
       "    <tr style=\"text-align: right;\">\n",
       "      <th></th>\n",
       "      <th>date</th>\n",
       "      <th>Temperature</th>\n",
       "      <th>Humidity</th>\n",
       "      <th>Light</th>\n",
       "      <th>CO2</th>\n",
       "      <th>HumidityRatio</th>\n",
       "      <th>Temp*Light</th>\n",
       "      <th>CO2*Temp</th>\n",
       "    </tr>\n",
       "  </thead>\n",
       "  <tbody>\n",
       "    <tr>\n",
       "      <th>0</th>\n",
       "      <td>1.423072e+18</td>\n",
       "      <td>23.18000</td>\n",
       "      <td>27.2720</td>\n",
       "      <td>426.0</td>\n",
       "      <td>721.25000</td>\n",
       "      <td>0.00479</td>\n",
       "      <td>9874.68000</td>\n",
       "      <td>16718.575000</td>\n",
       "    </tr>\n",
       "    <tr>\n",
       "      <th>1</th>\n",
       "      <td>1.423072e+18</td>\n",
       "      <td>23.15000</td>\n",
       "      <td>27.2675</td>\n",
       "      <td>429.5</td>\n",
       "      <td>714.00000</td>\n",
       "      <td>0.00478</td>\n",
       "      <td>9942.92500</td>\n",
       "      <td>16529.100000</td>\n",
       "    </tr>\n",
       "    <tr>\n",
       "      <th>2</th>\n",
       "      <td>1.423072e+18</td>\n",
       "      <td>20.57617</td>\n",
       "      <td>27.2450</td>\n",
       "      <td>426.0</td>\n",
       "      <td>604.03209</td>\n",
       "      <td>0.00478</td>\n",
       "      <td>8765.44842</td>\n",
       "      <td>12428.666969</td>\n",
       "    </tr>\n",
       "    <tr>\n",
       "      <th>3</th>\n",
       "      <td>1.423072e+18</td>\n",
       "      <td>23.15000</td>\n",
       "      <td>27.2000</td>\n",
       "      <td>426.0</td>\n",
       "      <td>708.25000</td>\n",
       "      <td>0.00477</td>\n",
       "      <td>9861.90000</td>\n",
       "      <td>16395.987500</td>\n",
       "    </tr>\n",
       "    <tr>\n",
       "      <th>4</th>\n",
       "      <td>1.423072e+18</td>\n",
       "      <td>20.57617</td>\n",
       "      <td>27.2000</td>\n",
       "      <td>426.0</td>\n",
       "      <td>604.03209</td>\n",
       "      <td>0.00476</td>\n",
       "      <td>8765.44842</td>\n",
       "      <td>12428.666969</td>\n",
       "    </tr>\n",
       "    <tr>\n",
       "      <th>...</th>\n",
       "      <td>...</td>\n",
       "      <td>...</td>\n",
       "      <td>...</td>\n",
       "      <td>...</td>\n",
       "      <td>...</td>\n",
       "      <td>...</td>\n",
       "      <td>...</td>\n",
       "      <td>...</td>\n",
       "    </tr>\n",
       "    <tr>\n",
       "      <th>8138</th>\n",
       "      <td>1.423561e+18</td>\n",
       "      <td>21.05000</td>\n",
       "      <td>36.0975</td>\n",
       "      <td>433.0</td>\n",
       "      <td>787.25000</td>\n",
       "      <td>0.00558</td>\n",
       "      <td>9114.65000</td>\n",
       "      <td>16571.612500</td>\n",
       "    </tr>\n",
       "    <tr>\n",
       "      <th>8139</th>\n",
       "      <td>1.423561e+18</td>\n",
       "      <td>21.05000</td>\n",
       "      <td>35.9950</td>\n",
       "      <td>433.0</td>\n",
       "      <td>789.50000</td>\n",
       "      <td>0.00556</td>\n",
       "      <td>9114.65000</td>\n",
       "      <td>16618.975000</td>\n",
       "    </tr>\n",
       "    <tr>\n",
       "      <th>8140</th>\n",
       "      <td>1.423561e+18</td>\n",
       "      <td>21.10000</td>\n",
       "      <td>36.0950</td>\n",
       "      <td>433.0</td>\n",
       "      <td>798.50000</td>\n",
       "      <td>0.00560</td>\n",
       "      <td>9136.30000</td>\n",
       "      <td>16848.350000</td>\n",
       "    </tr>\n",
       "    <tr>\n",
       "      <th>8141</th>\n",
       "      <td>1.423561e+18</td>\n",
       "      <td>21.10000</td>\n",
       "      <td>36.2600</td>\n",
       "      <td>433.0</td>\n",
       "      <td>820.33333</td>\n",
       "      <td>0.00562</td>\n",
       "      <td>9136.30000</td>\n",
       "      <td>17309.033263</td>\n",
       "    </tr>\n",
       "    <tr>\n",
       "      <th>8142</th>\n",
       "      <td>1.423561e+18</td>\n",
       "      <td>21.10000</td>\n",
       "      <td>36.2000</td>\n",
       "      <td>447.0</td>\n",
       "      <td>821.00000</td>\n",
       "      <td>0.00561</td>\n",
       "      <td>9431.70000</td>\n",
       "      <td>17323.100000</td>\n",
       "    </tr>\n",
       "  </tbody>\n",
       "</table>\n",
       "<p>8143 rows × 8 columns</p>\n",
       "</div>"
      ],
      "text/plain": [
       "              date  Temperature  Humidity  Light        CO2  HumidityRatio  \\\n",
       "0     1.423072e+18     23.18000   27.2720  426.0  721.25000        0.00479   \n",
       "1     1.423072e+18     23.15000   27.2675  429.5  714.00000        0.00478   \n",
       "2     1.423072e+18     20.57617   27.2450  426.0  604.03209        0.00478   \n",
       "3     1.423072e+18     23.15000   27.2000  426.0  708.25000        0.00477   \n",
       "4     1.423072e+18     20.57617   27.2000  426.0  604.03209        0.00476   \n",
       "...            ...          ...       ...    ...        ...            ...   \n",
       "8138  1.423561e+18     21.05000   36.0975  433.0  787.25000        0.00558   \n",
       "8139  1.423561e+18     21.05000   35.9950  433.0  789.50000        0.00556   \n",
       "8140  1.423561e+18     21.10000   36.0950  433.0  798.50000        0.00560   \n",
       "8141  1.423561e+18     21.10000   36.2600  433.0  820.33333        0.00562   \n",
       "8142  1.423561e+18     21.10000   36.2000  447.0  821.00000        0.00561   \n",
       "\n",
       "      Temp*Light      CO2*Temp  \n",
       "0     9874.68000  16718.575000  \n",
       "1     9942.92500  16529.100000  \n",
       "2     8765.44842  12428.666969  \n",
       "3     9861.90000  16395.987500  \n",
       "4     8765.44842  12428.666969  \n",
       "...          ...           ...  \n",
       "8138  9114.65000  16571.612500  \n",
       "8139  9114.65000  16618.975000  \n",
       "8140  9136.30000  16848.350000  \n",
       "8141  9136.30000  17309.033263  \n",
       "8142  9431.70000  17323.100000  \n",
       "\n",
       "[8143 rows x 8 columns]"
      ]
     },
     "execution_count": 60,
     "metadata": {},
     "output_type": "execute_result"
    }
   ],
   "source": [
    "train_X"
   ]
  },
  {
   "cell_type": "code",
   "execution_count": 61,
   "metadata": {
    "scrolled": true
   },
   "outputs": [
    {
     "name": "stdout",
     "output_type": "stream",
     "text": [
      "Train is scaled successfully!\n",
      "Dev is scaled successfully!\n",
      "Test is scaled successfully!\n"
     ]
    }
   ],
   "source": [
    "# Scale All Datasets.\n",
    "train_X_scaled_final = df_scaler(train_X,'Train')\n",
    "dev_X_scaled_final = df_scaler(dev_X,'Dev')\n",
    "test_X_scaled_final = df_scaler(test_X,'Test')"
   ]
  },
  {
   "cell_type": "code",
   "execution_count": 62,
   "metadata": {},
   "outputs": [],
   "source": [
    "train_ds = pd.merge(train_X_scaled_final,df_train_y,left_index=True,right_index=True)\n",
    "dev_ds = pd.merge(dev_X_scaled_final,df_dev_y,left_index=True,right_index=True)\n",
    "test_ds = pd.merge(test_X_scaled_final,df_test_y,left_index=True,right_index=True)"
   ]
  },
  {
   "cell_type": "markdown",
   "metadata": {},
   "source": [
    "# 5. Data Visualization"
   ]
  },
  {
   "cell_type": "code",
   "execution_count": 63,
   "metadata": {},
   "outputs": [],
   "source": [
    "def showAllCounts():\n",
    "    df_train_counts = list(df_train[df_train.columns].count())\n",
    "    df_dev_counts = list(df_dev[df_dev.columns].count())\n",
    "    df_test_counts = list(df_test[df_test.columns].count())\n",
    "    df_all_counts = [df_train_counts,df_dev_counts,df_test_counts]\n",
    "\n",
    "    colNames = df_train.columns\n",
    "\n",
    "    fig = plt.figure(figsize=(20,5))\n",
    "    plt.bar(colNames,df_all_counts[0],color='c',width=0.30,label='Train',align='center')\n",
    "    plt.bar(colNames,df_all_counts[1],color='m',width=0.25,label='Dev',align='edge')\n",
    "    plt.bar(colNames,df_all_counts[2],color='y',width=0.15,label='Test',align='edge')\n",
    "    plt.legend(loc='best')\n",
    "    plt.title('Dataset Feature Counts',size=16)\n",
    "    plt.xticks(size=16)\n",
    "    plt.yticks(size=16)\n",
    "    plt.show()"
   ]
  },
  {
   "cell_type": "code",
   "execution_count": 64,
   "metadata": {},
   "outputs": [
    {
     "data": {
      "image/png": "[encoded data removed]",
      "text/plain": [
       "<Figure size 1440x360 with 1 Axes>"
      ]
     },
     "metadata": {
      "needs_background": "light"
     },
     "output_type": "display_data"
    }
   ],
   "source": [
    "showAllCounts()"
   ]
  },
  {
   "cell_type": "code",
   "execution_count": 65,
   "metadata": {},
   "outputs": [],
   "source": [
    "def showMissingRates():\n",
    "    missing_temp = df_train.Temperature.isna().sum()\n",
    "    missing_co2 = df_train.CO2.isna().sum()\n",
    "    missing_counts = df_train.isna().sum()\n",
    "    \n",
    "    all_missing = missing_temp + missing_co2\n",
    "    not_missing = len(df_train) - all_missing\n",
    "    \n",
    "    labels = ['Missing','Not Missing']\n",
    "    data = [all_missing,not_missing]\n",
    "    fig = plt.figure(figsize=(10,7))\n",
    "    plt.pie(data,labels=labels,shadow=True,autopct='%1.1f%%')\n",
    "    plt.title('Missing/Not Missing Rates',size=16)\n",
    "    plt.show()\n",
    "    \n",
    "    plt.bar(df_train.columns,missing_counts)\n",
    "    plt.xticks(rotation=90,size=15)\n",
    "    plt.yticks(size=15)\n",
    "    plt.title(\"Missings Counts\",size=15)\n",
    "    plt.show()"
   ]
  },
  {
   "cell_type": "code",
   "execution_count": 66,
   "metadata": {
    "scrolled": true
   },
   "outputs": [
    {
     "data": {
      "image/png": "[encoded data removed]",
      "text/plain": [
       "<Figure size 720x504 with 1 Axes>"
      ]
     },
     "metadata": {},
     "output_type": "display_data"
    },
    {
     "data": {
      "image/png": "[encoded data removed]",
      "text/plain": [
       "<Figure size 432x288 with 1 Axes>"
      ]
     },
     "metadata": {
      "needs_background": "light"
     },
     "output_type": "display_data"
    }
   ],
   "source": [
    "showMissingRates()"
   ]
  },
  {
   "cell_type": "code",
   "execution_count": 67,
   "metadata": {},
   "outputs": [
    {
     "data": {
      "text/plain": [
       "\"\\nOccupancy ile Feature'ların arasındaki ilişkilerin olduğu grafik.\\nMesela - CO2 - Occupancy\\n        Temperature - Occupancy\\n        ..\\n        ..\\n\""
      ]
     },
     "execution_count": 67,
     "metadata": {},
     "output_type": "execute_result"
    }
   ],
   "source": [
    " '''\n",
    " Occupancy ile Feature'ların arasındaki ilişkilerin olduğu grafik.\n",
    " Mesela - CO2 - Occupancy\n",
    "         Temperature - Occupancy\n",
    "         ..\n",
    "         ..\n",
    " '''"
   ]
  },
  {
   "cell_type": "code",
   "execution_count": 68,
   "metadata": {},
   "outputs": [],
   "source": [
    "train_corr = pd.merge(train_X,df_train_y,left_index=True,right_index=True).corr()\n",
    "dev_corr = pd.merge(dev_X,df_dev_y,left_index=True,right_index=True).corr()\n",
    "test_corr = pd.merge(test_X,df_test_y,left_index=True,right_index=True).corr()"
   ]
  },
  {
   "cell_type": "code",
   "execution_count": 69,
   "metadata": {},
   "outputs": [],
   "source": [
    "def correlationGraph(dataset,ds_name):\n",
    "    plt.figure(figsize=(12,8))\n",
    "    sns.heatmap(dataset,annot=True,linewidth=.5)\n",
    "    plt.title(f' Correlation of features in {ds_name} dataset', fontsize=16)"
   ]
  },
  {
   "cell_type": "code",
   "execution_count": 70,
   "metadata": {},
   "outputs": [
    {
     "data": {
      "image/png": "[encoded data removed]",
      "text/plain": [
       "<Figure size 864x576 with 2 Axes>"
      ]
     },
     "metadata": {
      "needs_background": "light"
     },
     "output_type": "display_data"
    }
   ],
   "source": [
    "correlationGraph(train_corr,'Train')"
   ]
  },
  {
   "cell_type": "code",
   "execution_count": 71,
   "metadata": {},
   "outputs": [
    {
     "data": {
      "image/png": "[encoded data removed]",
      "text/plain": [
       "<Figure size 864x576 with 2 Axes>"
      ]
     },
     "metadata": {
      "needs_background": "light"
     },
     "output_type": "display_data"
    }
   ],
   "source": [
    "#Correlation of dev_X-y features with each other.\n",
    "correlationGraph(dev_corr,'Dev')"
   ]
  },
  {
   "cell_type": "code",
   "execution_count": 72,
   "metadata": {},
   "outputs": [
    {
     "data": {
      "image/png": "[encoded data removed]",
      "text/plain": [
       "<Figure size 864x576 with 2 Axes>"
      ]
     },
     "metadata": {
      "needs_background": "light"
     },
     "output_type": "display_data"
    }
   ],
   "source": [
    "#Correlation of test_X- features with each other.\n",
    "correlationGraph(test_corr,'Test')"
   ]
  },
  {
   "cell_type": "code",
   "execution_count": 73,
   "metadata": {},
   "outputs": [
    {
     "data": {
      "image/png": "[encoded data removed]",
      "text/plain": [
       "<Figure size 432x288 with 2 Axes>"
      ]
     },
     "metadata": {
      "needs_background": "light"
     },
     "output_type": "display_data"
    },
    {
     "data": {
      "image/png": "[encoded data removed]",
      "text/plain": [
       "<Figure size 432x288 with 2 Axes>"
      ]
     },
     "metadata": {
      "needs_background": "light"
     },
     "output_type": "display_data"
    },
    {
     "data": {
      "image/png": "[encoded data removed]",
      "text/plain": [
       "<Figure size 432x288 with 2 Axes>"
      ]
     },
     "metadata": {
      "needs_background": "light"
     },
     "output_type": "display_data"
    },
    {
     "data": {
      "image/png": "[encoded data removed]",
      "text/plain": [
       "<Figure size 432x288 with 2 Axes>"
      ]
     },
     "metadata": {
      "needs_background": "light"
     },
     "output_type": "display_data"
    },
    {
     "data": {
      "image/png": "[encoded data removed]",
      "text/plain": [
       "<Figure size 432x288 with 2 Axes>"
      ]
     },
     "metadata": {
      "needs_background": "light"
     },
     "output_type": "display_data"
    }
   ],
   "source": [
    "def fonk(a,b):\n",
    "    not_missing = df_test[(df_test[a].notnull())]\n",
    "    not_missing.hist(column = a, by=b)\n",
    "    plt.xlabel(a)\n",
    "    plt.ylabel(b)\n",
    "    plt.suptitle(a + \" distribution according to room\" +b)\n",
    "fonk('CO2', 'Occupancy')\n",
    "fonk('Temperature', 'Occupancy')\n",
    "fonk('Light','Occupancy')\n",
    "fonk('Humidity', 'Occupancy')\n",
    "fonk('HumidityRatio', 'Occupancy')"
   ]
  },
  {
   "cell_type": "markdown",
   "metadata": {},
   "source": [
    "## 6. Training"
   ]
  },
  {
   "cell_type": "code",
   "execution_count": 74,
   "metadata": {},
   "outputs": [
    {
     "name": "stdout",
     "output_type": "stream",
     "text": [
      "Metal device set to: Apple M1\n",
      "\n",
      "systemMemory: 8.00 GB\n",
      "maxCacheSize: 2.67 GB\n",
      "\n"
     ]
    },
    {
     "name": "stderr",
     "output_type": "stream",
     "text": [
      "2023-04-10 21:00:55.625963: I tensorflow/core/common_runtime/pluggable_device/pluggable_device_factory.cc:306] Could not identify NUMA node of platform GPU ID 0, defaulting to 0. Your kernel may not have been built with NUMA support.\n",
      "2023-04-10 21:00:55.626300: I tensorflow/core/common_runtime/pluggable_device/pluggable_device_factory.cc:272] Created TensorFlow device (/job:localhost/replica:0/task:0/device:GPU:0 with 0 MB memory) -> physical PluggableDevice (device: 0, name: METAL, pci bus id: <undefined>)\n"
     ]
    },
    {
     "name": "stdout",
     "output_type": "stream",
     "text": [
      "Model: \"sequential\"\n",
      "_________________________________________________________________\n",
      " Layer (type)                Output Shape              Param #   \n",
      "=================================================================\n",
      " dense (Dense)               (None, 20)                180       \n",
      "                                                                 \n",
      " dense_1 (Dense)             (None, 2)                 42        \n",
      "                                                                 \n",
      " dense_2 (Dense)             (None, 1)                 3         \n",
      "                                                                 \n",
      "=================================================================\n",
      "Total params: 225\n",
      "Trainable params: 225\n",
      "Non-trainable params: 0\n",
      "_________________________________________________________________\n"
     ]
    }
   ],
   "source": [
    "X_train = train_X_scaled_final\n",
    "y_train = df_train_y\n",
    "X_dev = dev_X_scaled_final\n",
    "y_dev = df_dev_y\n",
    "X_test = test_X_scaled_final\n",
    "y_test = df_test_y\n",
    "\n",
    "opt = Adam(learning_rate=1e-6)\n",
    "\n",
    "model = Sequential()\n",
    "model.add(Dense(20,input_dim=X_train.shape[1], activation = 'relu'))\n",
    "model.add(Dense(2,activation='relu'))\n",
    "model.add(Dense(1,activation = 'sigmoid'))\n",
    "model.compile(loss='binary_crossentropy',optimizer = opt,metrics=['accuracy'])\n",
    "model.summary()"
   ]
  },
  {
   "cell_type": "code",
   "execution_count": 75,
   "metadata": {},
   "outputs": [
    {
     "name": "stdout",
     "output_type": "stream",
     "text": [
      "Epoch 1/200\n"
     ]
    },
    {
     "name": "stderr",
     "output_type": "stream",
     "text": [
      "2023-04-10 21:00:56.156829: W tensorflow/core/platform/profile_utils/cpu_utils.cc:128] Failed to get CPU frequency: 0 Hz\n",
      "2023-04-10 21:00:56.401098: I tensorflow/core/grappler/optimizers/custom_graph_optimizer_registry.cc:114] Plugin optimizer for device_type GPU is enabled.\n"
     ]
    },
    {
     "name": "stdout",
     "output_type": "stream",
     "text": [
      "255/255 [==============================] - ETA: 0s - loss: 0.7131 - accuracy: 0.2110"
     ]
    },
    {
     "name": "stderr",
     "output_type": "stream",
     "text": [
      "2023-04-10 21:01:00.792378: I tensorflow/core/grappler/optimizers/custom_graph_optimizer_registry.cc:114] Plugin optimizer for device_type GPU is enabled.\n"
     ]
    },
    {
     "name": "stdout",
     "output_type": "stream",
     "text": [
      "255/255 [==============================] - 5s 10ms/step - loss: 0.7131 - accuracy: 0.2110 - val_loss: 0.6919 - val_accuracy: 0.3017\n",
      "Epoch 2/200\n",
      "255/255 [==============================] - 2s 9ms/step - loss: 0.7125 - accuracy: 0.2113 - val_loss: 0.6914 - val_accuracy: 0.3017\n",
      "Epoch 3/200\n",
      "255/255 [==============================] - 2s 8ms/step - loss: 0.7120 - accuracy: 0.2113 - val_loss: 0.6909 - val_accuracy: 0.3017\n",
      "Epoch 4/200\n",
      "255/255 [==============================] - 2s 9ms/step - loss: 0.7114 - accuracy: 0.2116 - val_loss: 0.6904 - val_accuracy: 0.3017\n",
      "Epoch 5/200\n",
      "255/255 [==============================] - 2s 9ms/step - loss: 0.7108 - accuracy: 0.2128 - val_loss: 0.6899 - val_accuracy: 0.3017\n",
      "Epoch 6/200\n",
      "255/255 [==============================] - 2s 8ms/step - loss: 0.7102 - accuracy: 0.2129 - val_loss: 0.6894 - val_accuracy: 0.3017\n",
      "Epoch 7/200\n",
      "255/255 [==============================] - 2s 8ms/step - loss: 0.7096 - accuracy: 0.2132 - val_loss: 0.6889 - val_accuracy: 0.3017\n",
      "Epoch 8/200\n",
      "255/255 [==============================] - 2s 8ms/step - loss: 0.7090 - accuracy: 0.2133 - val_loss: 0.6884 - val_accuracy: 0.3017\n",
      "Epoch 9/200\n",
      "255/255 [==============================] - 2s 8ms/step - loss: 0.7085 - accuracy: 0.2138 - val_loss: 0.6879 - val_accuracy: 0.3017\n",
      "Epoch 10/200\n",
      "255/255 [==============================] - 2s 8ms/step - loss: 0.7079 - accuracy: 0.2143 - val_loss: 0.6874 - val_accuracy: 0.3017\n",
      "Epoch 11/200\n",
      "255/255 [==============================] - 2s 8ms/step - loss: 0.7073 - accuracy: 0.2144 - val_loss: 0.6869 - val_accuracy: 0.3017\n",
      "Epoch 12/200\n",
      "255/255 [==============================] - 2s 8ms/step - loss: 0.7067 - accuracy: 0.2152 - val_loss: 0.6864 - val_accuracy: 0.3017\n",
      "Epoch 13/200\n",
      "255/255 [==============================] - 2s 8ms/step - loss: 0.7061 - accuracy: 0.2156 - val_loss: 0.6859 - val_accuracy: 0.3017\n",
      "Epoch 14/200\n",
      "255/255 [==============================] - 2s 7ms/step - loss: 0.7055 - accuracy: 0.2165 - val_loss: 0.6853 - val_accuracy: 0.3017\n",
      "Epoch 15/200\n",
      "255/255 [==============================] - 2s 7ms/step - loss: 0.7050 - accuracy: 0.2177 - val_loss: 0.6848 - val_accuracy: 0.3017\n",
      "Epoch 16/200\n",
      "255/255 [==============================] - 2s 7ms/step - loss: 0.7044 - accuracy: 0.2199 - val_loss: 0.6843 - val_accuracy: 0.3017\n",
      "Epoch 17/200\n",
      "255/255 [==============================] - 2s 8ms/step - loss: 0.7038 - accuracy: 0.2251 - val_loss: 0.6838 - val_accuracy: 0.3017\n",
      "Epoch 18/200\n",
      "255/255 [==============================] - 2s 8ms/step - loss: 0.7032 - accuracy: 0.2333 - val_loss: 0.6833 - val_accuracy: 0.3017\n",
      "Epoch 19/200\n",
      "255/255 [==============================] - 2s 8ms/step - loss: 0.7026 - accuracy: 0.2396 - val_loss: 0.6827 - val_accuracy: 0.3017\n",
      "Epoch 20/200\n",
      "255/255 [==============================] - 2s 8ms/step - loss: 0.7021 - accuracy: 0.2468 - val_loss: 0.6822 - val_accuracy: 0.3017\n",
      "Epoch 21/200\n",
      "255/255 [==============================] - 2s 8ms/step - loss: 0.7015 - accuracy: 0.2596 - val_loss: 0.6817 - val_accuracy: 0.3017\n",
      "Epoch 22/200\n",
      "255/255 [==============================] - 2s 8ms/step - loss: 0.7009 - accuracy: 0.2742 - val_loss: 0.6811 - val_accuracy: 0.3017\n",
      "Epoch 23/200\n",
      "255/255 [==============================] - 2s 7ms/step - loss: 0.7003 - accuracy: 0.2985 - val_loss: 0.6805 - val_accuracy: 0.3017\n",
      "Epoch 24/200\n",
      "255/255 [==============================] - 2s 8ms/step - loss: 0.6997 - accuracy: 0.3308 - val_loss: 0.6800 - val_accuracy: 0.3017\n",
      "Epoch 25/200\n",
      "255/255 [==============================] - 2s 7ms/step - loss: 0.6991 - accuracy: 0.3572 - val_loss: 0.6794 - val_accuracy: 0.3017\n",
      "Epoch 26/200\n",
      "255/255 [==============================] - 2s 8ms/step - loss: 0.6985 - accuracy: 0.3741 - val_loss: 0.6789 - val_accuracy: 0.3017\n",
      "Epoch 27/200\n",
      "255/255 [==============================] - 2s 8ms/step - loss: 0.6979 - accuracy: 0.3790 - val_loss: 0.6783 - val_accuracy: 0.3017\n",
      "Epoch 28/200\n",
      "255/255 [==============================] - 2s 8ms/step - loss: 0.6973 - accuracy: 0.3903 - val_loss: 0.6778 - val_accuracy: 0.3017\n",
      "Epoch 29/200\n",
      "255/255 [==============================] - 2s 8ms/step - loss: 0.6967 - accuracy: 0.3965 - val_loss: 0.6772 - val_accuracy: 0.3028\n",
      "Epoch 30/200\n",
      "255/255 [==============================] - 2s 8ms/step - loss: 0.6961 - accuracy: 0.3991 - val_loss: 0.6766 - val_accuracy: 0.3141\n",
      "Epoch 31/200\n",
      "255/255 [==============================] - 2s 8ms/step - loss: 0.6954 - accuracy: 0.4024 - val_loss: 0.6761 - val_accuracy: 0.3227\n",
      "Epoch 32/200\n",
      "255/255 [==============================] - 2s 8ms/step - loss: 0.6948 - accuracy: 0.4076 - val_loss: 0.6755 - val_accuracy: 0.3313\n",
      "Epoch 33/200\n",
      "255/255 [==============================] - 2s 7ms/step - loss: 0.6942 - accuracy: 0.4207 - val_loss: 0.6749 - val_accuracy: 0.3505\n",
      "Epoch 34/200\n",
      "255/255 [==============================] - 2s 8ms/step - loss: 0.6936 - accuracy: 0.4298 - val_loss: 0.6744 - val_accuracy: 0.3741\n",
      "Epoch 35/200\n",
      "255/255 [==============================] - 2s 8ms/step - loss: 0.6929 - accuracy: 0.4422 - val_loss: 0.6738 - val_accuracy: 0.3989\n",
      "Epoch 36/200\n",
      "255/255 [==============================] - 2s 8ms/step - loss: 0.6923 - accuracy: 0.4522 - val_loss: 0.6732 - val_accuracy: 0.4086\n",
      "Epoch 37/200\n",
      "255/255 [==============================] - 2s 8ms/step - loss: 0.6917 - accuracy: 0.4601 - val_loss: 0.6726 - val_accuracy: 0.4161\n",
      "Epoch 38/200\n",
      "255/255 [==============================] - 2s 8ms/step - loss: 0.6910 - accuracy: 0.4690 - val_loss: 0.6720 - val_accuracy: 0.4308\n",
      "Epoch 39/200\n",
      "255/255 [==============================] - 2s 8ms/step - loss: 0.6904 - accuracy: 0.4796 - val_loss: 0.6714 - val_accuracy: 0.4420\n",
      "Epoch 40/200\n",
      "255/255 [==============================] - 2s 8ms/step - loss: 0.6898 - accuracy: 0.4899 - val_loss: 0.6709 - val_accuracy: 0.4488\n",
      "Epoch 41/200\n",
      "255/255 [==============================] - 2s 8ms/step - loss: 0.6891 - accuracy: 0.4987 - val_loss: 0.6703 - val_accuracy: 0.4589\n",
      "Epoch 42/200\n",
      "255/255 [==============================] - 2s 8ms/step - loss: 0.6885 - accuracy: 0.5090 - val_loss: 0.6697 - val_accuracy: 0.4750\n",
      "Epoch 43/200\n",
      "255/255 [==============================] - 2s 8ms/step - loss: 0.6878 - accuracy: 0.5159 - val_loss: 0.6691 - val_accuracy: 0.4916\n",
      "Epoch 44/200\n",
      "255/255 [==============================] - 2s 8ms/step - loss: 0.6872 - accuracy: 0.5295 - val_loss: 0.6685 - val_accuracy: 0.5054\n",
      "Epoch 45/200\n",
      "255/255 [==============================] - 2s 8ms/step - loss: 0.6865 - accuracy: 0.5481 - val_loss: 0.6679 - val_accuracy: 0.5163\n",
      "Epoch 46/200\n",
      "255/255 [==============================] - 2s 8ms/step - loss: 0.6859 - accuracy: 0.5624 - val_loss: 0.6674 - val_accuracy: 0.5272\n",
      "Epoch 47/200\n",
      "255/255 [==============================] - 2s 7ms/step - loss: 0.6852 - accuracy: 0.5811 - val_loss: 0.6668 - val_accuracy: 0.5467\n",
      "Epoch 48/200\n",
      "255/255 [==============================] - 2s 8ms/step - loss: 0.6846 - accuracy: 0.6221 - val_loss: 0.6662 - val_accuracy: 0.5715\n",
      "Epoch 49/200\n",
      "255/255 [==============================] - 2s 8ms/step - loss: 0.6840 - accuracy: 0.6463 - val_loss: 0.6656 - val_accuracy: 0.5854\n",
      "Epoch 50/200\n",
      "255/255 [==============================] - 2s 8ms/step - loss: 0.6833 - accuracy: 0.6544 - val_loss: 0.6651 - val_accuracy: 0.5989\n",
      "Epoch 51/200\n",
      "255/255 [==============================] - 2s 8ms/step - loss: 0.6827 - accuracy: 0.6650 - val_loss: 0.6645 - val_accuracy: 0.6056\n",
      "Epoch 52/200\n",
      "255/255 [==============================] - 2s 8ms/step - loss: 0.6820 - accuracy: 0.6759 - val_loss: 0.6639 - val_accuracy: 0.6135\n",
      "Epoch 53/200\n",
      "255/255 [==============================] - 2s 7ms/step - loss: 0.6814 - accuracy: 0.6838 - val_loss: 0.6633 - val_accuracy: 0.6417\n",
      "Epoch 54/200\n",
      "255/255 [==============================] - 2s 8ms/step - loss: 0.6807 - accuracy: 0.6898 - val_loss: 0.6627 - val_accuracy: 0.7163\n",
      "Epoch 55/200\n",
      "255/255 [==============================] - 2s 8ms/step - loss: 0.6801 - accuracy: 0.6954 - val_loss: 0.6622 - val_accuracy: 0.7362\n",
      "Epoch 56/200\n",
      "255/255 [==============================] - 2s 8ms/step - loss: 0.6794 - accuracy: 0.7024 - val_loss: 0.6616 - val_accuracy: 0.7478\n",
      "Epoch 57/200\n",
      "255/255 [==============================] - 2s 8ms/step - loss: 0.6788 - accuracy: 0.7092 - val_loss: 0.6610 - val_accuracy: 0.7711\n",
      "Epoch 58/200\n",
      "255/255 [==============================] - 2s 8ms/step - loss: 0.6781 - accuracy: 0.7144 - val_loss: 0.6605 - val_accuracy: 0.7857\n",
      "Epoch 59/200\n",
      "255/255 [==============================] - 2s 8ms/step - loss: 0.6775 - accuracy: 0.7215 - val_loss: 0.6599 - val_accuracy: 0.8053\n",
      "Epoch 60/200\n",
      "255/255 [==============================] - 2s 8ms/step - loss: 0.6769 - accuracy: 0.7280 - val_loss: 0.6593 - val_accuracy: 0.8195\n",
      "Epoch 61/200\n",
      "255/255 [==============================] - 2s 8ms/step - loss: 0.6762 - accuracy: 0.7318 - val_loss: 0.6587 - val_accuracy: 0.8236\n",
      "Epoch 62/200\n",
      "255/255 [==============================] - 2s 7ms/step - loss: 0.6756 - accuracy: 0.7354 - val_loss: 0.6582 - val_accuracy: 0.8248\n",
      "Epoch 63/200\n",
      "255/255 [==============================] - 2s 8ms/step - loss: 0.6749 - accuracy: 0.7388 - val_loss: 0.6576 - val_accuracy: 0.8266\n",
      "Epoch 64/200\n",
      "255/255 [==============================] - 2s 8ms/step - loss: 0.6743 - accuracy: 0.7410 - val_loss: 0.6570 - val_accuracy: 0.8281\n",
      "Epoch 65/200\n",
      "255/255 [==============================] - 2s 8ms/step - loss: 0.6737 - accuracy: 0.7414 - val_loss: 0.6565 - val_accuracy: 0.8289\n",
      "Epoch 66/200\n",
      "255/255 [==============================] - 2s 8ms/step - loss: 0.6730 - accuracy: 0.7416 - val_loss: 0.6559 - val_accuracy: 0.8300\n",
      "Epoch 67/200\n",
      "255/255 [==============================] - 2s 8ms/step - loss: 0.6724 - accuracy: 0.7431 - val_loss: 0.6553 - val_accuracy: 0.8315\n",
      "Epoch 68/200\n",
      "255/255 [==============================] - 2s 8ms/step - loss: 0.6718 - accuracy: 0.7438 - val_loss: 0.6548 - val_accuracy: 0.8326\n",
      "Epoch 69/200\n",
      "255/255 [==============================] - 2s 7ms/step - loss: 0.6711 - accuracy: 0.7462 - val_loss: 0.6542 - val_accuracy: 0.8338\n",
      "Epoch 70/200\n",
      "255/255 [==============================] - 2s 8ms/step - loss: 0.6705 - accuracy: 0.7508 - val_loss: 0.6536 - val_accuracy: 0.8349\n",
      "Epoch 71/200\n",
      "255/255 [==============================] - 2s 8ms/step - loss: 0.6699 - accuracy: 0.7550 - val_loss: 0.6531 - val_accuracy: 0.8349\n",
      "Epoch 72/200\n",
      "255/255 [==============================] - 2s 8ms/step - loss: 0.6693 - accuracy: 0.7593 - val_loss: 0.6525 - val_accuracy: 0.8379\n",
      "Epoch 73/200\n",
      "255/255 [==============================] - 2s 8ms/step - loss: 0.6686 - accuracy: 0.7652 - val_loss: 0.6520 - val_accuracy: 0.8420\n",
      "Epoch 74/200\n",
      "255/255 [==============================] - 2s 8ms/step - loss: 0.6680 - accuracy: 0.7686 - val_loss: 0.6514 - val_accuracy: 0.8428\n",
      "Epoch 75/200\n",
      "255/255 [==============================] - 2s 8ms/step - loss: 0.6674 - accuracy: 0.7720 - val_loss: 0.6509 - val_accuracy: 0.8432\n",
      "Epoch 76/200\n",
      "255/255 [==============================] - 2s 9ms/step - loss: 0.6668 - accuracy: 0.7735 - val_loss: 0.6503 - val_accuracy: 0.8439\n",
      "Epoch 77/200\n",
      "255/255 [==============================] - 2s 8ms/step - loss: 0.6662 - accuracy: 0.7749 - val_loss: 0.6498 - val_accuracy: 0.8447\n",
      "Epoch 78/200\n",
      "255/255 [==============================] - 2s 9ms/step - loss: 0.6656 - accuracy: 0.7775 - val_loss: 0.6492 - val_accuracy: 0.8458\n",
      "Epoch 79/200\n",
      "255/255 [==============================] - 2s 8ms/step - loss: 0.6649 - accuracy: 0.7782 - val_loss: 0.6486 - val_accuracy: 0.8458\n",
      "Epoch 80/200\n",
      "255/255 [==============================] - 2s 9ms/step - loss: 0.6643 - accuracy: 0.7790 - val_loss: 0.6481 - val_accuracy: 0.8469\n",
      "Epoch 81/200\n",
      "255/255 [==============================] - 2s 8ms/step - loss: 0.6637 - accuracy: 0.7821 - val_loss: 0.6475 - val_accuracy: 0.8495\n",
      "Epoch 82/200\n",
      "255/255 [==============================] - 2s 8ms/step - loss: 0.6631 - accuracy: 0.7841 - val_loss: 0.6470 - val_accuracy: 0.8503\n",
      "Epoch 83/200\n",
      "255/255 [==============================] - 2s 7ms/step - loss: 0.6625 - accuracy: 0.7850 - val_loss: 0.6465 - val_accuracy: 0.8503\n",
      "Epoch 84/200\n",
      "255/255 [==============================] - 2s 8ms/step - loss: 0.6619 - accuracy: 0.7867 - val_loss: 0.6459 - val_accuracy: 0.8507\n",
      "Epoch 85/200\n",
      "255/255 [==============================] - 2s 8ms/step - loss: 0.6613 - accuracy: 0.7882 - val_loss: 0.6454 - val_accuracy: 0.8510\n",
      "Epoch 86/200\n",
      "255/255 [==============================] - 2s 8ms/step - loss: 0.6607 - accuracy: 0.7887 - val_loss: 0.6448 - val_accuracy: 0.8529\n",
      "Epoch 87/200\n",
      "255/255 [==============================] - 2s 8ms/step - loss: 0.6601 - accuracy: 0.7893 - val_loss: 0.6443 - val_accuracy: 0.8533\n",
      "Epoch 88/200\n",
      "255/255 [==============================] - 2s 8ms/step - loss: 0.6595 - accuracy: 0.7902 - val_loss: 0.6437 - val_accuracy: 0.8540\n",
      "Epoch 89/200\n",
      "255/255 [==============================] - 2s 8ms/step - loss: 0.6589 - accuracy: 0.7906 - val_loss: 0.6432 - val_accuracy: 0.8544\n",
      "Epoch 90/200\n",
      "255/255 [==============================] - 2s 8ms/step - loss: 0.6583 - accuracy: 0.7923 - val_loss: 0.6426 - val_accuracy: 0.8552\n",
      "Epoch 91/200\n",
      "255/255 [==============================] - 2s 8ms/step - loss: 0.6577 - accuracy: 0.7945 - val_loss: 0.6421 - val_accuracy: 0.8555\n",
      "Epoch 92/200\n",
      "255/255 [==============================] - 2s 8ms/step - loss: 0.6571 - accuracy: 0.7975 - val_loss: 0.6416 - val_accuracy: 0.8559\n",
      "Epoch 93/200\n",
      "255/255 [==============================] - 2s 8ms/step - loss: 0.6565 - accuracy: 0.7987 - val_loss: 0.6410 - val_accuracy: 0.8570\n",
      "Epoch 94/200\n",
      "255/255 [==============================] - 2s 8ms/step - loss: 0.6559 - accuracy: 0.8012 - val_loss: 0.6405 - val_accuracy: 0.8574\n",
      "Epoch 95/200\n",
      "255/255 [==============================] - 2s 8ms/step - loss: 0.6553 - accuracy: 0.8041 - val_loss: 0.6400 - val_accuracy: 0.8578\n",
      "Epoch 96/200\n",
      "255/255 [==============================] - 2s 8ms/step - loss: 0.6547 - accuracy: 0.8071 - val_loss: 0.6394 - val_accuracy: 0.8589\n",
      "Epoch 97/200\n",
      "255/255 [==============================] - 2s 8ms/step - loss: 0.6541 - accuracy: 0.8095 - val_loss: 0.6389 - val_accuracy: 0.8597\n",
      "Epoch 98/200\n",
      "255/255 [==============================] - 2s 8ms/step - loss: 0.6535 - accuracy: 0.8119 - val_loss: 0.6384 - val_accuracy: 0.8604\n",
      "Epoch 99/200\n",
      "255/255 [==============================] - 2s 8ms/step - loss: 0.6529 - accuracy: 0.8133 - val_loss: 0.6378 - val_accuracy: 0.8612\n",
      "Epoch 100/200\n",
      "255/255 [==============================] - 2s 8ms/step - loss: 0.6523 - accuracy: 0.8155 - val_loss: 0.6373 - val_accuracy: 0.8612\n",
      "Epoch 101/200\n",
      "255/255 [==============================] - 2s 8ms/step - loss: 0.6517 - accuracy: 0.8164 - val_loss: 0.6368 - val_accuracy: 0.8615\n",
      "Epoch 102/200\n",
      "255/255 [==============================] - 2s 8ms/step - loss: 0.6511 - accuracy: 0.8173 - val_loss: 0.6363 - val_accuracy: 0.8619\n",
      "Epoch 103/200\n",
      "255/255 [==============================] - 2s 8ms/step - loss: 0.6505 - accuracy: 0.8185 - val_loss: 0.6357 - val_accuracy: 0.8619\n",
      "Epoch 104/200\n",
      "255/255 [==============================] - 2s 8ms/step - loss: 0.6499 - accuracy: 0.8200 - val_loss: 0.6352 - val_accuracy: 0.8638\n",
      "Epoch 105/200\n",
      "255/255 [==============================] - 2s 8ms/step - loss: 0.6493 - accuracy: 0.8211 - val_loss: 0.6347 - val_accuracy: 0.8645\n",
      "Epoch 106/200\n",
      "255/255 [==============================] - 2s 8ms/step - loss: 0.6487 - accuracy: 0.8223 - val_loss: 0.6342 - val_accuracy: 0.8645\n",
      "Epoch 107/200\n",
      "255/255 [==============================] - 2s 8ms/step - loss: 0.6481 - accuracy: 0.8243 - val_loss: 0.6336 - val_accuracy: 0.8653\n",
      "Epoch 108/200\n",
      "255/255 [==============================] - 2s 8ms/step - loss: 0.6475 - accuracy: 0.8260 - val_loss: 0.6331 - val_accuracy: 0.8657\n",
      "Epoch 109/200\n",
      "255/255 [==============================] - 2s 8ms/step - loss: 0.6469 - accuracy: 0.8272 - val_loss: 0.6326 - val_accuracy: 0.8660\n",
      "Epoch 110/200\n",
      "255/255 [==============================] - 2s 8ms/step - loss: 0.6463 - accuracy: 0.8291 - val_loss: 0.6321 - val_accuracy: 0.8672\n",
      "Epoch 111/200\n",
      "255/255 [==============================] - 2s 8ms/step - loss: 0.6457 - accuracy: 0.8295 - val_loss: 0.6315 - val_accuracy: 0.8672\n",
      "Epoch 112/200\n",
      "255/255 [==============================] - 2s 8ms/step - loss: 0.6451 - accuracy: 0.8315 - val_loss: 0.6310 - val_accuracy: 0.8672\n",
      "Epoch 113/200\n",
      "255/255 [==============================] - 2s 8ms/step - loss: 0.6445 - accuracy: 0.8325 - val_loss: 0.6305 - val_accuracy: 0.8672\n",
      "Epoch 114/200\n",
      "255/255 [==============================] - 2s 8ms/step - loss: 0.6439 - accuracy: 0.8340 - val_loss: 0.6300 - val_accuracy: 0.8675\n",
      "Epoch 115/200\n",
      "255/255 [==============================] - 2s 8ms/step - loss: 0.6433 - accuracy: 0.8351 - val_loss: 0.6295 - val_accuracy: 0.8690\n",
      "Epoch 116/200\n",
      "255/255 [==============================] - 2s 8ms/step - loss: 0.6427 - accuracy: 0.8359 - val_loss: 0.6289 - val_accuracy: 0.8690\n",
      "Epoch 117/200\n",
      "255/255 [==============================] - 2s 8ms/step - loss: 0.6421 - accuracy: 0.8361 - val_loss: 0.6284 - val_accuracy: 0.8698\n",
      "Epoch 118/200\n",
      "255/255 [==============================] - 2s 8ms/step - loss: 0.6415 - accuracy: 0.8370 - val_loss: 0.6279 - val_accuracy: 0.8713\n",
      "Epoch 119/200\n",
      "255/255 [==============================] - 2s 8ms/step - loss: 0.6409 - accuracy: 0.8384 - val_loss: 0.6274 - val_accuracy: 0.8717\n",
      "Epoch 120/200\n",
      "255/255 [==============================] - 2s 8ms/step - loss: 0.6403 - accuracy: 0.8395 - val_loss: 0.6269 - val_accuracy: 0.8717\n",
      "Epoch 121/200\n",
      "255/255 [==============================] - 2s 8ms/step - loss: 0.6397 - accuracy: 0.8402 - val_loss: 0.6264 - val_accuracy: 0.8724\n",
      "Epoch 122/200\n",
      "255/255 [==============================] - 2s 8ms/step - loss: 0.6391 - accuracy: 0.8410 - val_loss: 0.6259 - val_accuracy: 0.8732\n",
      "Epoch 123/200\n",
      "255/255 [==============================] - 2s 8ms/step - loss: 0.6385 - accuracy: 0.8424 - val_loss: 0.6254 - val_accuracy: 0.8732\n",
      "Epoch 124/200\n",
      "255/255 [==============================] - 2s 8ms/step - loss: 0.6380 - accuracy: 0.8427 - val_loss: 0.6248 - val_accuracy: 0.8735\n",
      "Epoch 125/200\n",
      "255/255 [==============================] - 2s 8ms/step - loss: 0.6374 - accuracy: 0.8437 - val_loss: 0.6243 - val_accuracy: 0.8735\n",
      "Epoch 126/200\n",
      "255/255 [==============================] - 2s 8ms/step - loss: 0.6368 - accuracy: 0.8448 - val_loss: 0.6238 - val_accuracy: 0.8739\n",
      "Epoch 127/200\n",
      "255/255 [==============================] - 2s 8ms/step - loss: 0.6362 - accuracy: 0.8460 - val_loss: 0.6233 - val_accuracy: 0.8743\n",
      "Epoch 128/200\n",
      "255/255 [==============================] - 2s 8ms/step - loss: 0.6356 - accuracy: 0.8469 - val_loss: 0.6228 - val_accuracy: 0.8743\n",
      "Epoch 129/200\n",
      "255/255 [==============================] - 2s 8ms/step - loss: 0.6350 - accuracy: 0.8483 - val_loss: 0.6223 - val_accuracy: 0.8747\n",
      "Epoch 130/200\n",
      "255/255 [==============================] - 2s 8ms/step - loss: 0.6344 - accuracy: 0.8490 - val_loss: 0.6218 - val_accuracy: 0.8754\n",
      "Epoch 131/200\n",
      "255/255 [==============================] - 2s 8ms/step - loss: 0.6338 - accuracy: 0.8494 - val_loss: 0.6213 - val_accuracy: 0.8754\n",
      "Epoch 132/200\n",
      "255/255 [==============================] - 2s 7ms/step - loss: 0.6332 - accuracy: 0.8503 - val_loss: 0.6208 - val_accuracy: 0.8758\n",
      "Epoch 133/200\n",
      "255/255 [==============================] - 2s 8ms/step - loss: 0.6326 - accuracy: 0.8514 - val_loss: 0.6203 - val_accuracy: 0.8758\n",
      "Epoch 134/200\n",
      "255/255 [==============================] - 2s 7ms/step - loss: 0.6320 - accuracy: 0.8520 - val_loss: 0.6197 - val_accuracy: 0.8762\n",
      "Epoch 135/200\n",
      "255/255 [==============================] - 2s 8ms/step - loss: 0.6314 - accuracy: 0.8539 - val_loss: 0.6192 - val_accuracy: 0.8765\n",
      "Epoch 136/200\n",
      "255/255 [==============================] - 2s 8ms/step - loss: 0.6308 - accuracy: 0.8546 - val_loss: 0.6187 - val_accuracy: 0.8765\n",
      "Epoch 137/200\n",
      "255/255 [==============================] - 2s 8ms/step - loss: 0.6302 - accuracy: 0.8552 - val_loss: 0.6182 - val_accuracy: 0.8769\n",
      "Epoch 138/200\n",
      "255/255 [==============================] - 2s 8ms/step - loss: 0.6296 - accuracy: 0.8562 - val_loss: 0.6177 - val_accuracy: 0.8773\n",
      "Epoch 139/200\n",
      "255/255 [==============================] - 2s 8ms/step - loss: 0.6290 - accuracy: 0.8566 - val_loss: 0.6172 - val_accuracy: 0.8777\n",
      "Epoch 140/200\n",
      "255/255 [==============================] - 2s 8ms/step - loss: 0.6284 - accuracy: 0.8578 - val_loss: 0.6167 - val_accuracy: 0.8784\n",
      "Epoch 141/200\n",
      "255/255 [==============================] - 2s 8ms/step - loss: 0.6279 - accuracy: 0.8582 - val_loss: 0.6162 - val_accuracy: 0.8784\n",
      "Epoch 142/200\n",
      "255/255 [==============================] - 2s 8ms/step - loss: 0.6273 - accuracy: 0.8588 - val_loss: 0.6157 - val_accuracy: 0.8795\n",
      "Epoch 143/200\n",
      "255/255 [==============================] - 2s 8ms/step - loss: 0.6267 - accuracy: 0.8591 - val_loss: 0.6151 - val_accuracy: 0.8799\n",
      "Epoch 144/200\n",
      "255/255 [==============================] - 2s 8ms/step - loss: 0.6261 - accuracy: 0.8595 - val_loss: 0.6146 - val_accuracy: 0.8799\n",
      "Epoch 145/200\n",
      "255/255 [==============================] - 2s 8ms/step - loss: 0.6255 - accuracy: 0.8604 - val_loss: 0.6141 - val_accuracy: 0.8799\n",
      "Epoch 146/200\n",
      "255/255 [==============================] - 2s 7ms/step - loss: 0.6249 - accuracy: 0.8610 - val_loss: 0.6136 - val_accuracy: 0.8803\n",
      "Epoch 147/200\n",
      "255/255 [==============================] - 12s 45ms/step - loss: 0.6243 - accuracy: 0.8615 - val_loss: 0.6131 - val_accuracy: 0.8811\n",
      "Epoch 148/200\n",
      "255/255 [==============================] - 2s 7ms/step - loss: 0.6237 - accuracy: 0.8626 - val_loss: 0.6126 - val_accuracy: 0.8822\n",
      "Epoch 149/200\n",
      "255/255 [==============================] - 2s 7ms/step - loss: 0.6231 - accuracy: 0.8628 - val_loss: 0.6121 - val_accuracy: 0.8822\n",
      "Epoch 150/200\n",
      "255/255 [==============================] - 2s 7ms/step - loss: 0.6225 - accuracy: 0.8633 - val_loss: 0.6116 - val_accuracy: 0.8822\n",
      "Epoch 151/200\n",
      "255/255 [==============================] - 133s 524ms/step - loss: 0.6220 - accuracy: 0.8641 - val_loss: 0.6111 - val_accuracy: 0.8826\n",
      "Epoch 152/200\n",
      "255/255 [==============================] - 2s 7ms/step - loss: 0.6214 - accuracy: 0.8648 - val_loss: 0.6106 - val_accuracy: 0.8826\n",
      "Epoch 153/200\n",
      "255/255 [==============================] - 2s 7ms/step - loss: 0.6208 - accuracy: 0.8659 - val_loss: 0.6101 - val_accuracy: 0.8833\n",
      "Epoch 154/200\n",
      "255/255 [==============================] - 2s 7ms/step - loss: 0.6202 - accuracy: 0.8672 - val_loss: 0.6096 - val_accuracy: 0.8837\n",
      "Epoch 155/200\n",
      "255/255 [==============================] - 2s 7ms/step - loss: 0.6196 - accuracy: 0.8681 - val_loss: 0.6091 - val_accuracy: 0.8841\n",
      "Epoch 156/200\n",
      "255/255 [==============================] - 128s 502ms/step - loss: 0.6190 - accuracy: 0.8685 - val_loss: 0.6086 - val_accuracy: 0.8841\n",
      "Epoch 157/200\n",
      "255/255 [==============================] - 2s 7ms/step - loss: 0.6184 - accuracy: 0.8690 - val_loss: 0.6081 - val_accuracy: 0.8841\n",
      "Epoch 158/200\n",
      "255/255 [==============================] - 2s 7ms/step - loss: 0.6178 - accuracy: 0.8698 - val_loss: 0.6076 - val_accuracy: 0.8844\n",
      "Epoch 159/200\n",
      "255/255 [==============================] - 2s 7ms/step - loss: 0.6172 - accuracy: 0.8707 - val_loss: 0.6071 - val_accuracy: 0.8844\n",
      "Epoch 160/200\n",
      "255/255 [==============================] - 140s 549ms/step - loss: 0.6167 - accuracy: 0.8723 - val_loss: 0.6066 - val_accuracy: 0.8844\n",
      "Epoch 161/200\n",
      "255/255 [==============================] - 2s 7ms/step - loss: 0.6161 - accuracy: 0.8733 - val_loss: 0.6061 - val_accuracy: 0.8848\n",
      "Epoch 162/200\n",
      "255/255 [==============================] - 2s 7ms/step - loss: 0.6155 - accuracy: 0.8740 - val_loss: 0.6056 - val_accuracy: 0.8856\n",
      "Epoch 163/200\n",
      "255/255 [==============================] - 2s 7ms/step - loss: 0.6149 - accuracy: 0.8751 - val_loss: 0.6051 - val_accuracy: 0.8859\n",
      "Epoch 164/200\n",
      "255/255 [==============================] - 2s 7ms/step - loss: 0.6143 - accuracy: 0.8768 - val_loss: 0.6046 - val_accuracy: 0.8859\n",
      "Epoch 165/200\n",
      "255/255 [==============================] - 137s 539ms/step - loss: 0.6137 - accuracy: 0.8773 - val_loss: 0.6041 - val_accuracy: 0.8871\n",
      "Epoch 166/200\n",
      "255/255 [==============================] - 2s 8ms/step - loss: 0.6131 - accuracy: 0.8778 - val_loss: 0.6036 - val_accuracy: 0.8874\n",
      "Epoch 167/200\n",
      "255/255 [==============================] - 2s 7ms/step - loss: 0.6125 - accuracy: 0.8792 - val_loss: 0.6030 - val_accuracy: 0.8882\n",
      "Epoch 168/200\n",
      "255/255 [==============================] - 2s 7ms/step - loss: 0.6119 - accuracy: 0.8798 - val_loss: 0.6025 - val_accuracy: 0.8882\n",
      "Epoch 169/200\n",
      "255/255 [==============================] - 2s 8ms/step - loss: 0.6113 - accuracy: 0.8806 - val_loss: 0.6020 - val_accuracy: 0.8886\n",
      "Epoch 170/200\n",
      "255/255 [==============================] - 2s 8ms/step - loss: 0.6108 - accuracy: 0.8812 - val_loss: 0.6015 - val_accuracy: 0.8886\n",
      "Epoch 171/200\n",
      "255/255 [==============================] - 2s 9ms/step - loss: 0.6102 - accuracy: 0.8822 - val_loss: 0.6010 - val_accuracy: 0.8889\n",
      "Epoch 172/200\n",
      "255/255 [==============================] - 2s 8ms/step - loss: 0.6096 - accuracy: 0.8825 - val_loss: 0.6005 - val_accuracy: 0.8897\n",
      "Epoch 173/200\n",
      "255/255 [==============================] - 2s 7ms/step - loss: 0.6090 - accuracy: 0.8839 - val_loss: 0.6000 - val_accuracy: 0.8901\n",
      "Epoch 174/200\n",
      "255/255 [==============================] - 2s 8ms/step - loss: 0.6084 - accuracy: 0.8853 - val_loss: 0.5995 - val_accuracy: 0.8904\n",
      "Epoch 175/200\n",
      "255/255 [==============================] - 2s 8ms/step - loss: 0.6078 - accuracy: 0.8858 - val_loss: 0.5990 - val_accuracy: 0.8908\n",
      "Epoch 176/200\n",
      "255/255 [==============================] - 2s 7ms/step - loss: 0.6072 - accuracy: 0.8863 - val_loss: 0.5985 - val_accuracy: 0.8908\n",
      "Epoch 177/200\n",
      "255/255 [==============================] - 2s 7ms/step - loss: 0.6066 - accuracy: 0.8873 - val_loss: 0.5980 - val_accuracy: 0.8908\n",
      "Epoch 178/200\n",
      "255/255 [==============================] - 2s 8ms/step - loss: 0.6061 - accuracy: 0.8876 - val_loss: 0.5974 - val_accuracy: 0.8908\n",
      "Epoch 179/200\n",
      "255/255 [==============================] - 2s 8ms/step - loss: 0.6055 - accuracy: 0.8879 - val_loss: 0.5969 - val_accuracy: 0.8908\n",
      "Epoch 180/200\n",
      "255/255 [==============================] - 2s 7ms/step - loss: 0.6049 - accuracy: 0.8881 - val_loss: 0.5964 - val_accuracy: 0.8912\n",
      "Epoch 181/200\n",
      "255/255 [==============================] - 2s 8ms/step - loss: 0.6043 - accuracy: 0.8882 - val_loss: 0.5959 - val_accuracy: 0.8916\n",
      "Epoch 182/200\n",
      "255/255 [==============================] - 2s 8ms/step - loss: 0.6037 - accuracy: 0.8884 - val_loss: 0.5954 - val_accuracy: 0.8916\n",
      "Epoch 183/200\n",
      "255/255 [==============================] - 2s 7ms/step - loss: 0.6031 - accuracy: 0.8895 - val_loss: 0.5949 - val_accuracy: 0.8919\n",
      "Epoch 184/200\n",
      "255/255 [==============================] - 2s 7ms/step - loss: 0.6025 - accuracy: 0.8901 - val_loss: 0.5944 - val_accuracy: 0.8927\n",
      "Epoch 185/200\n",
      "255/255 [==============================] - 2s 8ms/step - loss: 0.6019 - accuracy: 0.8902 - val_loss: 0.5938 - val_accuracy: 0.8927\n",
      "Epoch 186/200\n",
      "255/255 [==============================] - 2s 8ms/step - loss: 0.6013 - accuracy: 0.8903 - val_loss: 0.5933 - val_accuracy: 0.8931\n",
      "Epoch 187/200\n",
      "255/255 [==============================] - 2s 8ms/step - loss: 0.6007 - accuracy: 0.8905 - val_loss: 0.5928 - val_accuracy: 0.8931\n",
      "Epoch 188/200\n",
      "255/255 [==============================] - 2s 9ms/step - loss: 0.6002 - accuracy: 0.8911 - val_loss: 0.5923 - val_accuracy: 0.8934\n",
      "Epoch 189/200\n",
      "255/255 [==============================] - 2s 8ms/step - loss: 0.5996 - accuracy: 0.8912 - val_loss: 0.5918 - val_accuracy: 0.8934\n",
      "Epoch 190/200\n",
      "255/255 [==============================] - 2s 8ms/step - loss: 0.5990 - accuracy: 0.8918 - val_loss: 0.5912 - val_accuracy: 0.8938\n",
      "Epoch 191/200\n",
      "255/255 [==============================] - 2s 8ms/step - loss: 0.5984 - accuracy: 0.8919 - val_loss: 0.5907 - val_accuracy: 0.8942\n",
      "Epoch 192/200\n",
      "255/255 [==============================] - 2s 8ms/step - loss: 0.5978 - accuracy: 0.8922 - val_loss: 0.5902 - val_accuracy: 0.8942\n",
      "Epoch 193/200\n",
      "255/255 [==============================] - 2s 8ms/step - loss: 0.5972 - accuracy: 0.8923 - val_loss: 0.5897 - val_accuracy: 0.8942\n",
      "Epoch 194/200\n",
      "255/255 [==============================] - 2s 8ms/step - loss: 0.5966 - accuracy: 0.8928 - val_loss: 0.5892 - val_accuracy: 0.8946\n",
      "Epoch 195/200\n",
      "255/255 [==============================] - 2s 8ms/step - loss: 0.5960 - accuracy: 0.8928 - val_loss: 0.5887 - val_accuracy: 0.8946\n",
      "Epoch 196/200\n",
      "255/255 [==============================] - 2s 8ms/step - loss: 0.5955 - accuracy: 0.8933 - val_loss: 0.5881 - val_accuracy: 0.8949\n",
      "Epoch 197/200\n",
      "255/255 [==============================] - 2s 8ms/step - loss: 0.5949 - accuracy: 0.8956 - val_loss: 0.5876 - val_accuracy: 0.8953\n",
      "Epoch 198/200\n",
      "255/255 [==============================] - 2s 9ms/step - loss: 0.5943 - accuracy: 0.8957 - val_loss: 0.5871 - val_accuracy: 0.8953\n",
      "Epoch 199/200\n",
      "255/255 [==============================] - 2s 9ms/step - loss: 0.5937 - accuracy: 0.8961 - val_loss: 0.5866 - val_accuracy: 0.8953\n",
      "Epoch 200/200\n",
      "255/255 [==============================] - 2s 9ms/step - loss: 0.5931 - accuracy: 0.8965 - val_loss: 0.5860 - val_accuracy: 0.8961\n"
     ]
    }
   ],
   "source": [
    "history = model.fit(X_train,y_train,verbose=1,epochs=200,validation_data = (X_dev,y_dev))"
   ]
  },
  {
   "cell_type": "code",
   "execution_count": 76,
   "metadata": {},
   "outputs": [
    {
     "name": "stdout",
     "output_type": "stream",
     "text": [
      "305/305 [==============================] - 2s 5ms/step - loss: 0.6263 - accuracy: 0.8442\n"
     ]
    }
   ],
   "source": [
    "hist_test = model.evaluate(X_test,y_test) # accuracy on test set"
   ]
  },
  {
   "cell_type": "code",
   "execution_count": 77,
   "metadata": {},
   "outputs": [
    {
     "data": {
      "text/plain": [
       "<matplotlib.legend.Legend at 0x2985ee770>"
      ]
     },
     "execution_count": 77,
     "metadata": {},
     "output_type": "execute_result"
    },
    {
     "data": {
      "image/png": "[encoded data removed]",
      "text/plain": [
       "<Figure size 1080x504 with 2 Axes>"
      ]
     },
     "metadata": {
      "needs_background": "light"
     },
     "output_type": "display_data"
    }
   ],
   "source": [
    "fig,ax = plt.subplots(1,2)\n",
    "fig.set_size_inches(15, 7)\n",
    "ax[0].plot(history.history['loss'],label='Train')\n",
    "ax[0].plot(history.history['val_loss'],label='Validation')\n",
    "ax[0].set_title('Loss Graph')\n",
    "ax[0].set_xlabel('Epoch')\n",
    "ax[0].legend(loc='best')\n",
    "\n",
    "ax[1].plot(history.history['accuracy'],label='Train')\n",
    "ax[1].plot(history.history['val_accuracy'],label='Validation')\n",
    "ax[1].set_title('Accuracy Graph')\n",
    "ax[1].set_xlabel('Epoch')\n",
    "ax[1].legend(loc='best')"
   ]
  },
  {
   "cell_type": "code",
   "execution_count": 78,
   "metadata": {},
   "outputs": [],
   "source": [
    "model.save('mymodel.h5')"
   ]
  },
  {
   "cell_type": "code",
   "execution_count": null,
   "metadata": {},
   "outputs": [],
   "source": []
  }
 ],
 "metadata": {
  "kernelspec": {
   "display_name": "Python 3",
   "language": "python",
   "name": "python3"
  },
  "language_info": {
   "codemirror_mode": {
    "name": "ipython",
    "version": 3
   },
   "file_extension": ".py",
   "mimetype": "text/x-python",
   "name": "python",
   "nbconvert_exporter": "python",
   "pygments_lexer": "ipython3",
   "version": "3.10.5"
  }
 },
 "nbformat": 4,
 "nbformat_minor": 4
}
